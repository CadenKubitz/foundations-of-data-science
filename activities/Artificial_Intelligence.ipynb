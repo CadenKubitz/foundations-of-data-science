{
 "cells": [
  {
   "cell_type": "markdown",
   "id": "6fed4289-3da6-4e33-a9aa-764fe098ce0b",
   "metadata": {},
   "source": [
    "# AI has many sub-fields: \n",
    "\n",
    "## Natural Language Processing (NLP) deals with sentiment analysis\n",
    "- We will look at `VADER`\n",
    "- Sentiment analysis looks at the tone, emotions of free-from-text\n",
    "\n",
    "## Machine Learning (ML) deals with predictive analysis\n",
    "- We will look at `Linear Regression`\n",
    "- Predictive analysis looks at past data, tries to generalize trends, and then tries to predict future data."
   ]
  },
  {
   "cell_type": "code",
   "execution_count": 2,
   "id": "5b039de4-13b8-4eb2-a1ee-e96c80964642",
   "metadata": {},
   "outputs": [],
   "source": [
    "from vaderSentiment.vaderSentiment import SentimentIntensityAnalyzer\n",
    "\n",
    "# If you get an error running this, run the following in a new cell:\n",
    "# !pip install vaderSentiment"
   ]
  },
  {
   "cell_type": "code",
   "execution_count": 4,
   "id": "3502d586-ddc8-48b1-b463-8dc0b3f8ebab",
   "metadata": {},
   "outputs": [],
   "source": [
    "# We can use SentimentIntensityAnalyzer by storing an instance of it in a variable.\n",
    "sa = SentimentIntensityAnalyzer()"
   ]
  },
  {
   "cell_type": "code",
   "execution_count": 6,
   "id": "afd4b4c3-0652-4870-ba32-fc7a5ef9d17d",
   "metadata": {},
   "outputs": [
    {
     "data": {
      "text/plain": [
       "{'neg': 0.413, 'neu': 0.587, 'pos': 0.0, 'compound': -0.2755}"
      ]
     },
     "execution_count": 6,
     "metadata": {},
     "output_type": "execute_result"
    }
   ],
   "source": [
    "sa.polarity_scores(\"I don't like Monday.\")"
   ]
  },
  {
   "cell_type": "markdown",
   "id": "9d4923c1-1d5f-4a4f-9d42-6eb39b1d4bde",
   "metadata": {},
   "source": [
    "### When we run the sentiment analyzer, we get 4 values\n",
    "1. `neg` stands for negative. This ranges from [0,1].\n",
    "2. `neu` stands for neural. This ranges from [0,1].\n",
    "3. `pos` stands for positive. This ranges from [0,1].\n",
    "4. `compound` is a unidimentional single value that gives you an overview of the overall sentiment for the text. It's values range from -1 to 1 where values close to -1 indicate a sad tone and values close to 1 indicate a positive/happy tone."
   ]
  },
  {
   "cell_type": "code",
   "execution_count": 8,
   "id": "30f12a66-0b9b-4f55-b755-14200bd92fa2",
   "metadata": {},
   "outputs": [],
   "source": [
    "import pandas as pd"
   ]
  },
  {
   "cell_type": "code",
   "execution_count": 10,
   "id": "b0e35465-d285-4e3e-8e26-9b4d40017a59",
   "metadata": {},
   "outputs": [],
   "source": [
    "df = pd.read_csv(\"./Cleaned_Inaugural_Speeches.csv\")"
   ]
  },
  {
   "cell_type": "code",
   "execution_count": 12,
   "id": "390764a7-8838-46d3-8f27-d54b1412564c",
   "metadata": {},
   "outputs": [
    {
     "data": {
      "text/html": [
       "<div>\n",
       "<style scoped>\n",
       "    .dataframe tbody tr th:only-of-type {\n",
       "        vertical-align: middle;\n",
       "    }\n",
       "\n",
       "    .dataframe tbody tr th {\n",
       "        vertical-align: top;\n",
       "    }\n",
       "\n",
       "    .dataframe thead th {\n",
       "        text-align: right;\n",
       "    }\n",
       "</style>\n",
       "<table border=\"1\" class=\"dataframe\">\n",
       "  <thead>\n",
       "    <tr style=\"text-align: right;\">\n",
       "      <th></th>\n",
       "      <th>Name</th>\n",
       "      <th>Inaugural Address</th>\n",
       "      <th>Date</th>\n",
       "      <th>text</th>\n",
       "    </tr>\n",
       "  </thead>\n",
       "  <tbody>\n",
       "    <tr>\n",
       "      <th>50</th>\n",
       "      <td>George Bush</td>\n",
       "      <td>Inaugural Address</td>\n",
       "      <td>Friday, January 20, 1989</td>\n",
       "      <td>Mr. Chief Justice, Mr. President, Vice Preside...</td>\n",
       "    </tr>\n",
       "    <tr>\n",
       "      <th>2</th>\n",
       "      <td>John Adams</td>\n",
       "      <td>Inaugural Address</td>\n",
       "      <td>Saturday, March 4, 1797</td>\n",
       "      <td>WHEN it was first perceived, in early times, t...</td>\n",
       "    </tr>\n",
       "    <tr>\n",
       "      <th>9</th>\n",
       "      <td>John Quincy Adams</td>\n",
       "      <td>Inaugural Address</td>\n",
       "      <td>Friday, March 4, 1825</td>\n",
       "      <td>IN compliance with an usage coeval with the ex...</td>\n",
       "    </tr>\n",
       "    <tr>\n",
       "      <th>8</th>\n",
       "      <td>James Monroe</td>\n",
       "      <td>Second Inaugural Address</td>\n",
       "      <td>Monday, March 5, 1821</td>\n",
       "      <td>Fellow-Citizens: I SHALL not attempt to descri...</td>\n",
       "    </tr>\n",
       "    <tr>\n",
       "      <th>37</th>\n",
       "      <td>Franklin D. Roosevelt</td>\n",
       "      <td>Second Inaugural Address</td>\n",
       "      <td>Wednesday, January 20, 1937</td>\n",
       "      <td>WHEN four years ago we met to inaugurate a Pre...</td>\n",
       "    </tr>\n",
       "    <tr>\n",
       "      <th>33</th>\n",
       "      <td>Warren G. Harding</td>\n",
       "      <td>Inaugural Address</td>\n",
       "      <td>Friday, March 4, 1921</td>\n",
       "      <td>My Countrymen: WHEN one surveys the world abou...</td>\n",
       "    </tr>\n",
       "    <tr>\n",
       "      <th>35</th>\n",
       "      <td>Herbert Hoover</td>\n",
       "      <td>Inaugural Address</td>\n",
       "      <td>Monday, March 4, 1929</td>\n",
       "      <td>My Countrymen: THIS occasion is not alone the ...</td>\n",
       "    </tr>\n",
       "    <tr>\n",
       "      <th>25</th>\n",
       "      <td>Benjamin Harrison</td>\n",
       "      <td>Inaugural Address</td>\n",
       "      <td>Monday, March 4, 1889</td>\n",
       "      <td>Fellow-Citizens: THERE is no constitutional or...</td>\n",
       "    </tr>\n",
       "    <tr>\n",
       "      <th>16</th>\n",
       "      <td>Franklin Pierce</td>\n",
       "      <td>Inaugural Address</td>\n",
       "      <td>Friday, March 4, 1853</td>\n",
       "      <td>My Countrymen: IT a relief to feel that no hea...</td>\n",
       "    </tr>\n",
       "    <tr>\n",
       "      <th>44</th>\n",
       "      <td>Lyndon Baines Johnson</td>\n",
       "      <td>Inaugural Address</td>\n",
       "      <td>Wednesday, January 20, 1965</td>\n",
       "      <td>My fellow countrymen, on this occasion, the oa...</td>\n",
       "    </tr>\n",
       "  </tbody>\n",
       "</table>\n",
       "</div>"
      ],
      "text/plain": [
       "                     Name         Inaugural Address  \\\n",
       "50            George Bush         Inaugural Address   \n",
       "2              John Adams         Inaugural Address   \n",
       "9       John Quincy Adams         Inaugural Address   \n",
       "8            James Monroe  Second Inaugural Address   \n",
       "37  Franklin D. Roosevelt  Second Inaugural Address   \n",
       "33      Warren G. Harding         Inaugural Address   \n",
       "35         Herbert Hoover         Inaugural Address   \n",
       "25      Benjamin Harrison         Inaugural Address   \n",
       "16        Franklin Pierce         Inaugural Address   \n",
       "44  Lyndon Baines Johnson         Inaugural Address   \n",
       "\n",
       "                           Date  \\\n",
       "50     Friday, January 20, 1989   \n",
       "2       Saturday, March 4, 1797   \n",
       "9         Friday, March 4, 1825   \n",
       "8         Monday, March 5, 1821   \n",
       "37  Wednesday, January 20, 1937   \n",
       "33        Friday, March 4, 1921   \n",
       "35        Monday, March 4, 1929   \n",
       "25        Monday, March 4, 1889   \n",
       "16        Friday, March 4, 1853   \n",
       "44  Wednesday, January 20, 1965   \n",
       "\n",
       "                                                 text  \n",
       "50  Mr. Chief Justice, Mr. President, Vice Preside...  \n",
       "2   WHEN it was first perceived, in early times, t...  \n",
       "9   IN compliance with an usage coeval with the ex...  \n",
       "8   Fellow-Citizens: I SHALL not attempt to descri...  \n",
       "37  WHEN four years ago we met to inaugurate a Pre...  \n",
       "33  My Countrymen: WHEN one surveys the world abou...  \n",
       "35  My Countrymen: THIS occasion is not alone the ...  \n",
       "25  Fellow-Citizens: THERE is no constitutional or...  \n",
       "16  My Countrymen: IT a relief to feel that no hea...  \n",
       "44  My fellow countrymen, on this occasion, the oa...  "
      ]
     },
     "execution_count": 12,
     "metadata": {},
     "output_type": "execute_result"
    }
   ],
   "source": [
    "df.sample(10)"
   ]
  },
  {
   "cell_type": "code",
   "execution_count": 14,
   "id": "6908e908-1c2b-4952-a848-f9bdf8c3a656",
   "metadata": {},
   "outputs": [],
   "source": [
    "text_of_first_row = df['text'][1]"
   ]
  },
  {
   "cell_type": "code",
   "execution_count": 16,
   "id": "d3309807-c854-4c02-b8f7-7f361c5e673b",
   "metadata": {},
   "outputs": [
    {
     "data": {
      "text/plain": [
       "'Fellow Citizens: I AM again called upon by the voice of my country to execute the functions of its Chief Magistrate. When the occasion proper for it shall arrive, I shall endeavor to express the high sense I entertain of this distinguished honor, and of the confidence which has been reposed in me by the people of united America. Previous to the execution of any official act of the President the Constitution requires an oath of office. This oath I am now about to take, and in your presence: That if it shall be found during my administration of the Government I have in any instance violated willingly or knowingly the injunctions thereof, I may (besides incurring constitutional punishment) be subject to the upbraidings of all who are now witnesses of the present solemn ceremony.'"
      ]
     },
     "execution_count": 16,
     "metadata": {},
     "output_type": "execute_result"
    }
   ],
   "source": [
    "text_of_first_row"
   ]
  },
  {
   "cell_type": "code",
   "execution_count": 18,
   "id": "c8215338-dc6e-4bbd-91c2-ce87b346337c",
   "metadata": {},
   "outputs": [
    {
     "data": {
      "text/plain": [
       "{'neg': 0.054, 'neu': 0.868, 'pos': 0.079, 'compound': 0.5719}"
      ]
     },
     "execution_count": 18,
     "metadata": {},
     "output_type": "execute_result"
    }
   ],
   "source": [
    "sa.polarity_scores(text_of_first_row)"
   ]
  },
  {
   "cell_type": "code",
   "execution_count": 20,
   "id": "3d729e6c-f317-40b4-b81c-f79a98c7de53",
   "metadata": {},
   "outputs": [
    {
     "data": {
      "text/plain": [
       "{'neg': 0.032, 'neu': 0.778, 'pos': 0.19, 'compound': 0.9996}"
      ]
     },
     "execution_count": 20,
     "metadata": {},
     "output_type": "execute_result"
    }
   ],
   "source": [
    "sa.polarity_scores(df['text'][10])"
   ]
  },
  {
   "cell_type": "code",
   "execution_count": 22,
   "id": "04905da7-4930-4957-a616-c87bbe17598f",
   "metadata": {},
   "outputs": [
    {
     "name": "stdout",
     "output_type": "stream",
     "text": [
      "The sentiment analysis for row 1 is {'neg': 0.046, 'neu': 0.719, 'pos': 0.235, 'compound': 0.9999}\n",
      "The sentiment analysis for row 2 is {'neg': 0.054, 'neu': 0.868, 'pos': 0.079, 'compound': 0.5719}\n",
      "The sentiment analysis for row 3 is {'neg': 0.044, 'neu': 0.697, 'pos': 0.259, 'compound': 1.0}\n",
      "The sentiment analysis for row 4 is {'neg': 0.076, 'neu': 0.701, 'pos': 0.223, 'compound': 0.9999}\n",
      "The sentiment analysis for row 5 is {'neg': 0.059, 'neu': 0.771, 'pos': 0.169, 'compound': 0.9998}\n",
      "The sentiment analysis for row 6 is {'neg': 0.048, 'neu': 0.779, 'pos': 0.173, 'compound': 0.9991}\n",
      "The sentiment analysis for row 7 is {'neg': 0.127, 'neu': 0.726, 'pos': 0.147, 'compound': 0.9737}\n",
      "The sentiment analysis for row 8 is {'neg': 0.054, 'neu': 0.731, 'pos': 0.215, 'compound': 1.0}\n",
      "The sentiment analysis for row 9 is {'neg': 0.061, 'neu': 0.749, 'pos': 0.19, 'compound': 1.0}\n",
      "The sentiment analysis for row 10 is {'neg': 0.055, 'neu': 0.745, 'pos': 0.2, 'compound': 0.9999}\n",
      "The sentiment analysis for row 11 is {'neg': 0.032, 'neu': 0.778, 'pos': 0.19, 'compound': 0.9996}\n",
      "The sentiment analysis for row 12 is {'neg': 0.047, 'neu': 0.764, 'pos': 0.19, 'compound': 0.9996}\n",
      "The sentiment analysis for row 13 is {'neg': 0.085, 'neu': 0.722, 'pos': 0.192, 'compound': 0.9999}\n",
      "The sentiment analysis for row 14 is {'neg': 0.071, 'neu': 0.786, 'pos': 0.144, 'compound': 0.9999}\n",
      "The sentiment analysis for row 15 is {'neg': 0.069, 'neu': 0.75, 'pos': 0.18, 'compound': 1.0}\n",
      "The sentiment analysis for row 16 is {'neg': 0.034, 'neu': 0.73, 'pos': 0.236, 'compound': 0.9998}\n",
      "The sentiment analysis for row 17 is {'neg': 0.08, 'neu': 0.706, 'pos': 0.214, 'compound': 1.0}\n",
      "The sentiment analysis for row 18 is {'neg': 0.073, 'neu': 0.708, 'pos': 0.218, 'compound': 0.9999}\n",
      "The sentiment analysis for row 19 is {'neg': 0.094, 'neu': 0.776, 'pos': 0.13, 'compound': 0.9993}\n",
      "The sentiment analysis for row 20 is {'neg': 0.14, 'neu': 0.727, 'pos': 0.132, 'compound': -0.9395}\n",
      "The sentiment analysis for row 21 is {'neg': 0.053, 'neu': 0.719, 'pos': 0.228, 'compound': 0.9998}\n",
      "The sentiment analysis for row 22 is {'neg': 0.066, 'neu': 0.778, 'pos': 0.156, 'compound': 0.9992}\n",
      "The sentiment analysis for row 23 is {'neg': 0.046, 'neu': 0.707, 'pos': 0.247, 'compound': 1.0}\n",
      "The sentiment analysis for row 24 is {'neg': 0.097, 'neu': 0.694, 'pos': 0.209, 'compound': 0.9999}\n",
      "The sentiment analysis for row 25 is {'neg': 0.049, 'neu': 0.73, 'pos': 0.221, 'compound': 0.9999}\n",
      "The sentiment analysis for row 26 is {'neg': 0.077, 'neu': 0.712, 'pos': 0.211, 'compound': 1.0}\n",
      "The sentiment analysis for row 27 is {'neg': 0.065, 'neu': 0.771, 'pos': 0.164, 'compound': 0.9996}\n",
      "The sentiment analysis for row 28 is {'neg': 0.068, 'neu': 0.714, 'pos': 0.217, 'compound': 1.0}\n",
      "The sentiment analysis for row 29 is {'neg': 0.074, 'neu': 0.718, 'pos': 0.208, 'compound': 0.9999}\n",
      "The sentiment analysis for row 30 is {'neg': 0.074, 'neu': 0.706, 'pos': 0.219, 'compound': 0.9996}\n",
      "The sentiment analysis for row 31 is {'neg': 0.055, 'neu': 0.776, 'pos': 0.168, 'compound': 1.0}\n",
      "The sentiment analysis for row 32 is {'neg': 0.095, 'neu': 0.724, 'pos': 0.182, 'compound': 0.9995}\n",
      "The sentiment analysis for row 33 is {'neg': 0.055, 'neu': 0.751, 'pos': 0.194, 'compound': 0.9998}\n",
      "The sentiment analysis for row 34 is {'neg': 0.103, 'neu': 0.676, 'pos': 0.221, 'compound': 0.9999}\n",
      "The sentiment analysis for row 35 is {'neg': 0.074, 'neu': 0.701, 'pos': 0.225, 'compound': 1.0}\n",
      "The sentiment analysis for row 36 is {'neg': 0.093, 'neu': 0.707, 'pos': 0.199, 'compound': 0.9999}\n",
      "The sentiment analysis for row 37 is {'neg': 0.089, 'neu': 0.726, 'pos': 0.185, 'compound': 0.9997}\n",
      "The sentiment analysis for row 38 is {'neg': 0.09, 'neu': 0.729, 'pos': 0.181, 'compound': 0.9996}\n",
      "The sentiment analysis for row 39 is {'neg': 0.068, 'neu': 0.767, 'pos': 0.166, 'compound': 0.9994}\n",
      "The sentiment analysis for row 40 is {'neg': 0.073, 'neu': 0.715, 'pos': 0.212, 'compound': 0.9982}\n",
      "The sentiment analysis for row 41 is {'neg': 0.076, 'neu': 0.653, 'pos': 0.271, 'compound': 1.0}\n",
      "The sentiment analysis for row 42 is {'neg': 0.069, 'neu': 0.673, 'pos': 0.258, 'compound': 1.0}\n",
      "The sentiment analysis for row 43 is {'neg': 0.089, 'neu': 0.636, 'pos': 0.275, 'compound': 0.9999}\n",
      "The sentiment analysis for row 44 is {'neg': 0.123, 'neu': 0.683, 'pos': 0.194, 'compound': 0.9992}\n",
      "The sentiment analysis for row 45 is {'neg': 0.094, 'neu': 0.719, 'pos': 0.187, 'compound': 0.9996}\n",
      "The sentiment analysis for row 46 is {'neg': 0.082, 'neu': 0.705, 'pos': 0.214, 'compound': 0.9999}\n",
      "The sentiment analysis for row 47 is {'neg': 0.054, 'neu': 0.707, 'pos': 0.239, 'compound': 0.9999}\n",
      "The sentiment analysis for row 48 is {'neg': 0.083, 'neu': 0.643, 'pos': 0.273, 'compound': 0.9999}\n",
      "The sentiment analysis for row 49 is {'neg': 0.076, 'neu': 0.724, 'pos': 0.2, 'compound': 0.9999}\n",
      "The sentiment analysis for row 50 is {'neg': 0.078, 'neu': 0.684, 'pos': 0.238, 'compound': 0.9999}\n",
      "The sentiment analysis for row 51 is {'neg': 0.047, 'neu': 0.697, 'pos': 0.256, 'compound': 1.0}\n",
      "The sentiment analysis for row 52 is {'neg': 0.075, 'neu': 0.735, 'pos': 0.19, 'compound': 0.9997}\n",
      "The sentiment analysis for row 53 is {'neg': 0.064, 'neu': 0.713, 'pos': 0.224, 'compound': 0.9999}\n",
      "The sentiment analysis for row 54 is {'neg': 0.094, 'neu': 0.672, 'pos': 0.234, 'compound': 0.9998}\n",
      "The sentiment analysis for row 55 is {'neg': 0.087, 'neu': 0.642, 'pos': 0.271, 'compound': 1.0}\n",
      "The sentiment analysis for row 56 is {'neg': 0.106, 'neu': 0.71, 'pos': 0.185, 'compound': 0.9998}\n",
      "The sentiment analysis for row 57 is {'neg': 0.068, 'neu': 0.731, 'pos': 0.201, 'compound': 0.9999}\n",
      "The sentiment analysis for row 58 is {'neg': 0.069, 'neu': 0.707, 'pos': 0.224, 'compound': 0.9998}\n"
     ]
    }
   ],
   "source": [
    "# We want to make a for loop to look at all texts for the dataset\n",
    "# Then run Sentiment Analysis on it\n",
    "for index, row in df.iterrows():\n",
    "    sa_for_row = sa.polarity_scores(row['text'])\n",
    "\n",
    "    print(f\"The sentiment analysis for row {index + 1} is {sa_for_row}\")"
   ]
  },
  {
   "cell_type": "code",
   "execution_count": 24,
   "id": "169879bc-7b75-40c6-bfd9-7a3bd012c199",
   "metadata": {},
   "outputs": [
    {
     "data": {
      "text/plain": [
       "58"
      ]
     },
     "execution_count": 24,
     "metadata": {},
     "output_type": "execute_result"
    }
   ],
   "source": [
    "len(df)"
   ]
  },
  {
   "cell_type": "code",
   "execution_count": 26,
   "id": "ad620aae-e9a9-4857-b4e2-01e65191113d",
   "metadata": {},
   "outputs": [
    {
     "data": {
      "text/plain": [
       "'Fellow-Countrymen: AT this second appearing to take the oath of the Presidential office there is less occasion for an extended address than there was at the first. Then a statement somewhat in detail of a course to be pursued seemed fitting and proper. Now, at the expiration of four years, during which public declarations have been constantly called forth on every point and phase of the great contest which still absorbs the attention and engrosses the energies of the nation, little that is new could be presented. The progress of our arms, upon which all else chiefly depends, is as well known to the public as to myself, and it is, I trust, reasonably satisfactory and encouraging to all. With high hope for the future, no prediction in regard to it is ventured. On the occasion corresponding to this four years ago all thoughts were anxiously directed to an impending civil war. All dreaded it, all sought to avert it. While the inaugural address was being delivered from this place, devoted altogether to saving the Union without war, insurgent agents were in the city seeking to destroy it without war seeking to dissolve the Union and divide effects by negotiation. Both parties deprecated war, but one of them would make war rather than let the nation survive, and the other would accept war rather than let it perish, and the war came. One-eighth of the whole population were colored slaves, not distributed generally over the Union, but localized in the southern part of it. These slaves constituted a peculiar and powerful interest. All knew that this interest was somehow the cause of the war. To strengthen, perpetuate, and extend this interest was the object for which the insurgents would rend the Union even by war, while the Government claimed no right to do more than to restrict the territorial enlargement of it. Neither party expected for the war the magnitude or the duration which it has already attained. Neither anticipated that the cause of the conflict might cease with or even before the conflict itself should cease. Each looked for an easier triumph, and a result less fundamental and astounding. Both read the same Bible and pray to the same God, and each invokes His aid against the other. It may seem strange that any men should dare to ask a just God\\'s assistance in wringing their bread from the sweat of other men\\'s faces, but let us judge not, that we be not judged. The prayers of both could not be answered. That of neither has been answered fully. The Almighty has His own purposes. \"Woe unto the world because of offenses; for it must needs be that offenses come, but woe to that man by whom the offense cometh.\" If we shall suppose that American slavery is one of those offenses which, in the providence of God, must needs come, but which, having continued through His appointed time, He now wills to remove, and that He gives to both North and South this terrible war as the woe due to those by whom the offense came, shall we discern therein any departure from those divine attributes which the believers in a living God always ascribe to Him? Fondly do we hope, fervently do we pray, that this mighty scourge of war may speedily pass away. Yet, if God wills that it continue until all the wealth piled by the bondsman\\'s two hundred and fifty years of unrequited toil shall be sunk, and until every drop of blood drawn with the lash shall be paid by another drawn with the sword, as was said three thousand years ago, so still it must be said \"the judgments of the Lord are true and righteous altogether.\" With malice toward none, with charity for all, with firmness in the right as God gives us to see the right, let us strive on to finish the work we are in, to bind up the nation\\'s wounds, to care for him who shall have borne the battle and for his widow and his orphan, to do all which may achieve and cherish a just and lasting peace among ourselves and with all nations.'"
      ]
     },
     "execution_count": 26,
     "metadata": {},
     "output_type": "execute_result"
    }
   ],
   "source": [
    "df['text'][19]"
   ]
  },
  {
   "cell_type": "code",
   "execution_count": 50,
   "id": "c757a522-c7f2-4730-bb68-1b55041d3da8",
   "metadata": {},
   "outputs": [
    {
     "data": {
      "text/plain": [
       "{'neg': 1.0, 'neu': 0.0, 'pos': 0.0, 'compound': -0.5994}"
      ]
     },
     "execution_count": 50,
     "metadata": {},
     "output_type": "execute_result"
    }
   ],
   "source": [
    "sa.polarity_scores(\"War\")"
   ]
  },
  {
   "cell_type": "markdown",
   "id": "8d6a29ea-aef3-43e9-8371-ca7b5428f931",
   "metadata": {},
   "source": [
    "### One other thing we can do is look at variations in Speech Length"
   ]
  },
  {
   "cell_type": "code",
   "execution_count": 36,
   "id": "06d66985-a9f0-4ec8-aba4-26e61dac31b4",
   "metadata": {},
   "outputs": [
    {
     "data": {
      "text/plain": [
       "Index(['Name', 'Inaugural Address', 'Date', 'text'], dtype='object')"
      ]
     },
     "execution_count": 36,
     "metadata": {},
     "output_type": "execute_result"
    }
   ],
   "source": [
    "df.columns"
   ]
  },
  {
   "cell_type": "code",
   "execution_count": 40,
   "id": "652ff988-5297-4157-ad7d-c96885b4d9ad",
   "metadata": {},
   "outputs": [],
   "source": [
    "## We're going to graph Speech Length (words) vs. Date (yrs.)\n",
    "\n",
    "df['Speech Length'] = df['text'].str.split().str.len()\n",
    "\n",
    "\n",
    "df['Speech Year'] = pd.DatetimeIndex(df['Date']).year"
   ]
  },
  {
   "cell_type": "code",
   "execution_count": 42,
   "id": "82d1bc8f-9f7e-42cb-bf2a-07db01b5bcb5",
   "metadata": {},
   "outputs": [
    {
     "data": {
      "text/html": [
       "<div>\n",
       "<style scoped>\n",
       "    .dataframe tbody tr th:only-of-type {\n",
       "        vertical-align: middle;\n",
       "    }\n",
       "\n",
       "    .dataframe tbody tr th {\n",
       "        vertical-align: top;\n",
       "    }\n",
       "\n",
       "    .dataframe thead th {\n",
       "        text-align: right;\n",
       "    }\n",
       "</style>\n",
       "<table border=\"1\" class=\"dataframe\">\n",
       "  <thead>\n",
       "    <tr style=\"text-align: right;\">\n",
       "      <th></th>\n",
       "      <th>Name</th>\n",
       "      <th>Inaugural Address</th>\n",
       "      <th>Date</th>\n",
       "      <th>text</th>\n",
       "      <th>Speech Length</th>\n",
       "      <th>Speech Year</th>\n",
       "    </tr>\n",
       "  </thead>\n",
       "  <tbody>\n",
       "    <tr>\n",
       "      <th>16</th>\n",
       "      <td>Franklin Pierce</td>\n",
       "      <td>Inaugural Address</td>\n",
       "      <td>Friday, March 4, 1853</td>\n",
       "      <td>My Countrymen: IT a relief to feel that no hea...</td>\n",
       "      <td>3333</td>\n",
       "      <td>1853</td>\n",
       "    </tr>\n",
       "    <tr>\n",
       "      <th>21</th>\n",
       "      <td>Ulysses S. Grant</td>\n",
       "      <td>Second Inaugural Address</td>\n",
       "      <td>Tuesday, March 4, 1873</td>\n",
       "      <td>Fellow-Citizens: UNDER Providence I have been ...</td>\n",
       "      <td>1337</td>\n",
       "      <td>1873</td>\n",
       "    </tr>\n",
       "    <tr>\n",
       "      <th>43</th>\n",
       "      <td>John F. Kennedy</td>\n",
       "      <td>Inaugural Address</td>\n",
       "      <td>Friday, January 20, 1961</td>\n",
       "      <td>Vice President Johnson, Mr. Speaker, Mr. Chief...</td>\n",
       "      <td>1364</td>\n",
       "      <td>1961</td>\n",
       "    </tr>\n",
       "    <tr>\n",
       "      <th>8</th>\n",
       "      <td>James Monroe</td>\n",
       "      <td>Second Inaugural Address</td>\n",
       "      <td>Monday, March 5, 1821</td>\n",
       "      <td>Fellow-Citizens: I SHALL not attempt to descri...</td>\n",
       "      <td>4462</td>\n",
       "      <td>1821</td>\n",
       "    </tr>\n",
       "    <tr>\n",
       "      <th>49</th>\n",
       "      <td>Ronald Reagan</td>\n",
       "      <td>Second Inaugural Address</td>\n",
       "      <td>Monday, January 21, 1985</td>\n",
       "      <td>Senator Mathias, Chief Justice Burger, Vice Pr...</td>\n",
       "      <td>2557</td>\n",
       "      <td>1985</td>\n",
       "    </tr>\n",
       "    <tr>\n",
       "      <th>30</th>\n",
       "      <td>William Howard Taft</td>\n",
       "      <td>Inaugural Address</td>\n",
       "      <td>Thursday, March 4, 1909</td>\n",
       "      <td>My Fellow-Citizens: ANYONE who has taken the o...</td>\n",
       "      <td>5431</td>\n",
       "      <td>1909</td>\n",
       "    </tr>\n",
       "    <tr>\n",
       "      <th>13</th>\n",
       "      <td>William Henry Harrison</td>\n",
       "      <td>Inaugural Address</td>\n",
       "      <td>Thursday, March 4, 1841</td>\n",
       "      <td>CALLED from a retirement which I had supposed ...</td>\n",
       "      <td>5580</td>\n",
       "      <td>1841</td>\n",
       "    </tr>\n",
       "    <tr>\n",
       "      <th>27</th>\n",
       "      <td>William McKinley</td>\n",
       "      <td>First Inaugural Address</td>\n",
       "      <td>Thursday, March 4, 1897</td>\n",
       "      <td>Fellow-Citizens: IN obedience to the will of t...</td>\n",
       "      <td>3965</td>\n",
       "      <td>1897</td>\n",
       "    </tr>\n",
       "    <tr>\n",
       "      <th>7</th>\n",
       "      <td>James Monroe</td>\n",
       "      <td>First Inaugural Address</td>\n",
       "      <td>Tuesday, March 4, 1817</td>\n",
       "      <td>I SHOULD be destitute of feeling if I was not ...</td>\n",
       "      <td>3370</td>\n",
       "      <td>1817</td>\n",
       "    </tr>\n",
       "    <tr>\n",
       "      <th>52</th>\n",
       "      <td>Bill Clinton</td>\n",
       "      <td>Second Inaugural Address</td>\n",
       "      <td>20-Jan-97</td>\n",
       "      <td>My fellow citizens: At this last presidential ...</td>\n",
       "      <td>2170</td>\n",
       "      <td>1997</td>\n",
       "    </tr>\n",
       "  </tbody>\n",
       "</table>\n",
       "</div>"
      ],
      "text/plain": [
       "                      Name         Inaugural Address  \\\n",
       "16         Franklin Pierce         Inaugural Address   \n",
       "21        Ulysses S. Grant  Second Inaugural Address   \n",
       "43         John F. Kennedy         Inaugural Address   \n",
       "8             James Monroe  Second Inaugural Address   \n",
       "49           Ronald Reagan  Second Inaugural Address   \n",
       "30     William Howard Taft         Inaugural Address   \n",
       "13  William Henry Harrison         Inaugural Address   \n",
       "27        William McKinley   First Inaugural Address   \n",
       "7             James Monroe   First Inaugural Address   \n",
       "52            Bill Clinton  Second Inaugural Address   \n",
       "\n",
       "                        Date  \\\n",
       "16     Friday, March 4, 1853   \n",
       "21    Tuesday, March 4, 1873   \n",
       "43  Friday, January 20, 1961   \n",
       "8      Monday, March 5, 1821   \n",
       "49  Monday, January 21, 1985   \n",
       "30   Thursday, March 4, 1909   \n",
       "13   Thursday, March 4, 1841   \n",
       "27   Thursday, March 4, 1897   \n",
       "7     Tuesday, March 4, 1817   \n",
       "52                 20-Jan-97   \n",
       "\n",
       "                                                 text  Speech Length  \\\n",
       "16  My Countrymen: IT a relief to feel that no hea...           3333   \n",
       "21  Fellow-Citizens: UNDER Providence I have been ...           1337   \n",
       "43  Vice President Johnson, Mr. Speaker, Mr. Chief...           1364   \n",
       "8   Fellow-Citizens: I SHALL not attempt to descri...           4462   \n",
       "49  Senator Mathias, Chief Justice Burger, Vice Pr...           2557   \n",
       "30  My Fellow-Citizens: ANYONE who has taken the o...           5431   \n",
       "13  CALLED from a retirement which I had supposed ...           5580   \n",
       "27  Fellow-Citizens: IN obedience to the will of t...           3965   \n",
       "7   I SHOULD be destitute of feeling if I was not ...           3370   \n",
       "52  My fellow citizens: At this last presidential ...           2170   \n",
       "\n",
       "    Speech Year  \n",
       "16         1853  \n",
       "21         1873  \n",
       "43         1961  \n",
       "8          1821  \n",
       "49         1985  \n",
       "30         1909  \n",
       "13         1841  \n",
       "27         1897  \n",
       "7          1817  \n",
       "52         1997  "
      ]
     },
     "execution_count": 42,
     "metadata": {},
     "output_type": "execute_result"
    }
   ],
   "source": [
    "df.sample(10)"
   ]
  },
  {
   "cell_type": "code",
   "execution_count": 54,
   "id": "f2c17871-7ac8-48fc-80e3-59762a791bb3",
   "metadata": {},
   "outputs": [
    {
     "data": {
      "text/plain": [
       "<Axes: title={'center': 'Speech Length (words) vs. Date (yrs.)'}, xlabel='Speech Year', ylabel='Speech Length'>"
      ]
     },
     "execution_count": 54,
     "metadata": {},
     "output_type": "execute_result"
    },
    {
     "data": {
      "image/png": "[encoded data removed]",
      "text/plain": [
       "<Figure size 640x480 with 1 Axes>"
      ]
     },
     "metadata": {},
     "output_type": "display_data"
    }
   ],
   "source": [
    "# We can choose from something like line, bar, pie, scatter\n",
    "\n",
    "df.plot(kind='line', x='Speech Year', y='Speech Length', title='Speech Length (words) vs. Date (yrs.)', ylabel=\"Speech Length\")\n",
    "\n"
   ]
  },
  {
   "cell_type": "markdown",
   "id": "161e1612-4828-4076-a43d-26b7f4e48574",
   "metadata": {},
   "source": [
    "### We just demonstarted how to do sentiment analysis on a complete dataset using a form of AI.\n",
    "The compound scores give us more clues/insights on the dataset.\n",
    "`VADER` is good at finding the tone of social media data."
   ]
  },
  {
   "cell_type": "markdown",
   "id": "260613f7-8fa0-4556-bd9e-e24db1d189ca",
   "metadata": {},
   "source": [
    "## Linear Regression (LR)\n",
    "It's a simple algorithm for machine learning. It's used to do predictive analysis on data.\n",
    "There are two types:\n",
    "- Simple LR: y_pred = ax + b\n",
    "- Multiple LR: y_pred = a1x1 + a2x2 + ... + b"
   ]
  },
  {
   "cell_type": "markdown",
   "id": "dc7a2513-d829-4093-bdc3-1b3a498e26f6",
   "metadata": {},
   "source": [
    "### Simple Linear Regression\n",
    "- 1 Independent variable (what informs the value for the dependent variable)\n",
    "- 1 Dependent variable (what we are trying to predict)"
   ]
  },
  {
   "cell_type": "markdown",
   "id": "3a51cae0-7deb-4b98-a531-f468357a68a7",
   "metadata": {},
   "source": [
    "### Multiple Linear Regression\n",
    "- More than 1 Independent variable\n",
    "- 1 Dependent variable"
   ]
  },
  {
   "cell_type": "code",
   "execution_count": 59,
   "id": "d751a62c-c337-4c89-a1e1-a26424d4f8de",
   "metadata": {},
   "outputs": [],
   "source": [
    "from sklearn.linear_model import LinearRegression"
   ]
  },
  {
   "cell_type": "code",
   "execution_count": 61,
   "id": "a86bffdd-4340-4cec-ad68-6170cc82e739",
   "metadata": {},
   "outputs": [],
   "source": [
    "lm = LinearRegression()"
   ]
  },
  {
   "cell_type": "code",
   "execution_count": 63,
   "id": "643f6ee9-4ce8-42a2-94a5-5418b107ac5e",
   "metadata": {},
   "outputs": [],
   "source": [
    "df_2 = pd.read_csv(\"Boston House Prices.csv\")"
   ]
  },
  {
   "cell_type": "code",
   "execution_count": 65,
   "id": "e3270e18-eacc-4ce9-80eb-0a5003d33d97",
   "metadata": {},
   "outputs": [
    {
     "data": {
      "text/html": [
       "<div>\n",
       "<style scoped>\n",
       "    .dataframe tbody tr th:only-of-type {\n",
       "        vertical-align: middle;\n",
       "    }\n",
       "\n",
       "    .dataframe tbody tr th {\n",
       "        vertical-align: top;\n",
       "    }\n",
       "\n",
       "    .dataframe thead th {\n",
       "        text-align: right;\n",
       "    }\n",
       "</style>\n",
       "<table border=\"1\" class=\"dataframe\">\n",
       "  <thead>\n",
       "    <tr style=\"text-align: right;\">\n",
       "      <th></th>\n",
       "      <th>Rooms</th>\n",
       "      <th>Distance</th>\n",
       "      <th>Value</th>\n",
       "    </tr>\n",
       "  </thead>\n",
       "  <tbody>\n",
       "    <tr>\n",
       "      <th>297</th>\n",
       "      <td>5.790</td>\n",
       "      <td>6.3200</td>\n",
       "      <td>20.3</td>\n",
       "    </tr>\n",
       "    <tr>\n",
       "      <th>418</th>\n",
       "      <td>5.957</td>\n",
       "      <td>1.8026</td>\n",
       "      <td>8.8</td>\n",
       "    </tr>\n",
       "    <tr>\n",
       "      <th>109</th>\n",
       "      <td>6.229</td>\n",
       "      <td>2.5451</td>\n",
       "      <td>19.4</td>\n",
       "    </tr>\n",
       "    <tr>\n",
       "      <th>19</th>\n",
       "      <td>5.727</td>\n",
       "      <td>3.7965</td>\n",
       "      <td>18.2</td>\n",
       "    </tr>\n",
       "    <tr>\n",
       "      <th>308</th>\n",
       "      <td>6.635</td>\n",
       "      <td>3.3175</td>\n",
       "      <td>22.8</td>\n",
       "    </tr>\n",
       "    <tr>\n",
       "      <th>11</th>\n",
       "      <td>6.009</td>\n",
       "      <td>6.2267</td>\n",
       "      <td>18.9</td>\n",
       "    </tr>\n",
       "    <tr>\n",
       "      <th>454</th>\n",
       "      <td>6.728</td>\n",
       "      <td>2.4961</td>\n",
       "      <td>14.9</td>\n",
       "    </tr>\n",
       "    <tr>\n",
       "      <th>381</th>\n",
       "      <td>6.545</td>\n",
       "      <td>1.5192</td>\n",
       "      <td>10.9</td>\n",
       "    </tr>\n",
       "    <tr>\n",
       "      <th>230</th>\n",
       "      <td>5.981</td>\n",
       "      <td>3.6715</td>\n",
       "      <td>24.3</td>\n",
       "    </tr>\n",
       "    <tr>\n",
       "      <th>124</th>\n",
       "      <td>5.879</td>\n",
       "      <td>2.0063</td>\n",
       "      <td>18.8</td>\n",
       "    </tr>\n",
       "  </tbody>\n",
       "</table>\n",
       "</div>"
      ],
      "text/plain": [
       "     Rooms  Distance  Value\n",
       "297  5.790    6.3200   20.3\n",
       "418  5.957    1.8026    8.8\n",
       "109  6.229    2.5451   19.4\n",
       "19   5.727    3.7965   18.2\n",
       "308  6.635    3.3175   22.8\n",
       "11   6.009    6.2267   18.9\n",
       "454  6.728    2.4961   14.9\n",
       "381  6.545    1.5192   10.9\n",
       "230  5.981    3.6715   24.3\n",
       "124  5.879    2.0063   18.8"
      ]
     },
     "execution_count": 65,
     "metadata": {},
     "output_type": "execute_result"
    }
   ],
   "source": [
    "df_2.sample(10)"
   ]
  },
  {
   "cell_type": "markdown",
   "id": "a9c776a9-a2be-4318-8d4a-ea88d2040c4a",
   "metadata": {},
   "source": [
    "### Describing the data...\n",
    "1. `Rooms` is the avergae no. of rooms in a house\n",
    "2. `Distance` is the average distance of the house from the top 3 employment centers\n",
    "3. `Value` is the value of the house in $1,000s"
   ]
  },
  {
   "cell_type": "code",
   "execution_count": 68,
   "id": "cf955235-0b2f-4acd-9ff1-089925dec003",
   "metadata": {},
   "outputs": [
    {
     "data": {
      "text/plain": [
       "(506, 3)"
      ]
     },
     "execution_count": 68,
     "metadata": {},
     "output_type": "execute_result"
    }
   ],
   "source": [
    "df_2.shape"
   ]
  },
  {
   "cell_type": "code",
   "execution_count": 70,
   "id": "f617f756-1755-471d-a874-a7c374a8af2b",
   "metadata": {},
   "outputs": [],
   "source": [
    "# Independent variable(s)\n",
    "# Remember to put two square brackets before and after\n",
    "X = df_2[['Rooms']]\n",
    "\n",
    "# Dependent variable\n",
    "y = df_2['Value']"
   ]
  },
  {
   "cell_type": "code",
   "execution_count": 72,
   "id": "c543a397-8463-4251-b196-5f3823185d15",
   "metadata": {},
   "outputs": [
    {
     "data": {
      "text/html": [
       "<style>#sk-container-id-1 {\n",
       "  /* Definition of color scheme common for light and dark mode */\n",
       "  --sklearn-color-text: black;\n",
       "  --sklearn-color-line: gray;\n",
       "  /* Definition of color scheme for unfitted estimators */\n",
       "  --sklearn-color-unfitted-level-0: #fff5e6;\n",
       "  --sklearn-color-unfitted-level-1: #f6e4d2;\n",
       "  --sklearn-color-unfitted-level-2: #ffe0b3;\n",
       "  --sklearn-color-unfitted-level-3: chocolate;\n",
       "  /* Definition of color scheme for fitted estimators */\n",
       "  --sklearn-color-fitted-level-0: #f0f8ff;\n",
       "  --sklearn-color-fitted-level-1: #d4ebff;\n",
       "  --sklearn-color-fitted-level-2: #b3dbfd;\n",
       "  --sklearn-color-fitted-level-3: cornflowerblue;\n",
       "\n",
       "  /* Specific color for light theme */\n",
       "  --sklearn-color-text-on-default-background: var(--sg-text-color, var(--theme-code-foreground, var(--jp-content-font-color1, black)));\n",
       "  --sklearn-color-background: var(--sg-background-color, var(--theme-background, var(--jp-layout-color0, white)));\n",
       "  --sklearn-color-border-box: var(--sg-text-color, var(--theme-code-foreground, var(--jp-content-font-color1, black)));\n",
       "  --sklearn-color-icon: #696969;\n",
       "\n",
       "  @media (prefers-color-scheme: dark) {\n",
       "    /* Redefinition of color scheme for dark theme */\n",
       "    --sklearn-color-text-on-default-background: var(--sg-text-color, var(--theme-code-foreground, var(--jp-content-font-color1, white)));\n",
       "    --sklearn-color-background: var(--sg-background-color, var(--theme-background, var(--jp-layout-color0, #111)));\n",
       "    --sklearn-color-border-box: var(--sg-text-color, var(--theme-code-foreground, var(--jp-content-font-color1, white)));\n",
       "    --sklearn-color-icon: #878787;\n",
       "  }\n",
       "}\n",
       "\n",
       "#sk-container-id-1 {\n",
       "  color: var(--sklearn-color-text);\n",
       "}\n",
       "\n",
       "#sk-container-id-1 pre {\n",
       "  padding: 0;\n",
       "}\n",
       "\n",
       "#sk-container-id-1 input.sk-hidden--visually {\n",
       "  border: 0;\n",
       "  clip: rect(1px 1px 1px 1px);\n",
       "  clip: rect(1px, 1px, 1px, 1px);\n",
       "  height: 1px;\n",
       "  margin: -1px;\n",
       "  overflow: hidden;\n",
       "  padding: 0;\n",
       "  position: absolute;\n",
       "  width: 1px;\n",
       "}\n",
       "\n",
       "#sk-container-id-1 div.sk-dashed-wrapped {\n",
       "  border: 1px dashed var(--sklearn-color-line);\n",
       "  margin: 0 0.4em 0.5em 0.4em;\n",
       "  box-sizing: border-box;\n",
       "  padding-bottom: 0.4em;\n",
       "  background-color: var(--sklearn-color-background);\n",
       "}\n",
       "\n",
       "#sk-container-id-1 div.sk-container {\n",
       "  /* jupyter's `normalize.less` sets `[hidden] { display: none; }`\n",
       "     but bootstrap.min.css set `[hidden] { display: none !important; }`\n",
       "     so we also need the `!important` here to be able to override the\n",
       "     default hidden behavior on the sphinx rendered scikit-learn.org.\n",
       "     See: https://github.com/scikit-learn/scikit-learn/issues/21755 */\n",
       "  display: inline-block !important;\n",
       "  position: relative;\n",
       "}\n",
       "\n",
       "#sk-container-id-1 div.sk-text-repr-fallback {\n",
       "  display: none;\n",
       "}\n",
       "\n",
       "div.sk-parallel-item,\n",
       "div.sk-serial,\n",
       "div.sk-item {\n",
       "  /* draw centered vertical line to link estimators */\n",
       "  background-image: linear-gradient(var(--sklearn-color-text-on-default-background), var(--sklearn-color-text-on-default-background));\n",
       "  background-size: 2px 100%;\n",
       "  background-repeat: no-repeat;\n",
       "  background-position: center center;\n",
       "}\n",
       "\n",
       "/* Parallel-specific style estimator block */\n",
       "\n",
       "#sk-container-id-1 div.sk-parallel-item::after {\n",
       "  content: \"\";\n",
       "  width: 100%;\n",
       "  border-bottom: 2px solid var(--sklearn-color-text-on-default-background);\n",
       "  flex-grow: 1;\n",
       "}\n",
       "\n",
       "#sk-container-id-1 div.sk-parallel {\n",
       "  display: flex;\n",
       "  align-items: stretch;\n",
       "  justify-content: center;\n",
       "  background-color: var(--sklearn-color-background);\n",
       "  position: relative;\n",
       "}\n",
       "\n",
       "#sk-container-id-1 div.sk-parallel-item {\n",
       "  display: flex;\n",
       "  flex-direction: column;\n",
       "}\n",
       "\n",
       "#sk-container-id-1 div.sk-parallel-item:first-child::after {\n",
       "  align-self: flex-end;\n",
       "  width: 50%;\n",
       "}\n",
       "\n",
       "#sk-container-id-1 div.sk-parallel-item:last-child::after {\n",
       "  align-self: flex-start;\n",
       "  width: 50%;\n",
       "}\n",
       "\n",
       "#sk-container-id-1 div.sk-parallel-item:only-child::after {\n",
       "  width: 0;\n",
       "}\n",
       "\n",
       "/* Serial-specific style estimator block */\n",
       "\n",
       "#sk-container-id-1 div.sk-serial {\n",
       "  display: flex;\n",
       "  flex-direction: column;\n",
       "  align-items: center;\n",
       "  background-color: var(--sklearn-color-background);\n",
       "  padding-right: 1em;\n",
       "  padding-left: 1em;\n",
       "}\n",
       "\n",
       "\n",
       "/* Toggleable style: style used for estimator/Pipeline/ColumnTransformer box that is\n",
       "clickable and can be expanded/collapsed.\n",
       "- Pipeline and ColumnTransformer use this feature and define the default style\n",
       "- Estimators will overwrite some part of the style using the `sk-estimator` class\n",
       "*/\n",
       "\n",
       "/* Pipeline and ColumnTransformer style (default) */\n",
       "\n",
       "#sk-container-id-1 div.sk-toggleable {\n",
       "  /* Default theme specific background. It is overwritten whether we have a\n",
       "  specific estimator or a Pipeline/ColumnTransformer */\n",
       "  background-color: var(--sklearn-color-background);\n",
       "}\n",
       "\n",
       "/* Toggleable label */\n",
       "#sk-container-id-1 label.sk-toggleable__label {\n",
       "  cursor: pointer;\n",
       "  display: block;\n",
       "  width: 100%;\n",
       "  margin-bottom: 0;\n",
       "  padding: 0.5em;\n",
       "  box-sizing: border-box;\n",
       "  text-align: center;\n",
       "}\n",
       "\n",
       "#sk-container-id-1 label.sk-toggleable__label-arrow:before {\n",
       "  /* Arrow on the left of the label */\n",
       "  content: \"▸\";\n",
       "  float: left;\n",
       "  margin-right: 0.25em;\n",
       "  color: var(--sklearn-color-icon);\n",
       "}\n",
       "\n",
       "#sk-container-id-1 label.sk-toggleable__label-arrow:hover:before {\n",
       "  color: var(--sklearn-color-text);\n",
       "}\n",
       "\n",
       "/* Toggleable content - dropdown */\n",
       "\n",
       "#sk-container-id-1 div.sk-toggleable__content {\n",
       "  max-height: 0;\n",
       "  max-width: 0;\n",
       "  overflow: hidden;\n",
       "  text-align: left;\n",
       "  /* unfitted */\n",
       "  background-color: var(--sklearn-color-unfitted-level-0);\n",
       "}\n",
       "\n",
       "#sk-container-id-1 div.sk-toggleable__content.fitted {\n",
       "  /* fitted */\n",
       "  background-color: var(--sklearn-color-fitted-level-0);\n",
       "}\n",
       "\n",
       "#sk-container-id-1 div.sk-toggleable__content pre {\n",
       "  margin: 0.2em;\n",
       "  border-radius: 0.25em;\n",
       "  color: var(--sklearn-color-text);\n",
       "  /* unfitted */\n",
       "  background-color: var(--sklearn-color-unfitted-level-0);\n",
       "}\n",
       "\n",
       "#sk-container-id-1 div.sk-toggleable__content.fitted pre {\n",
       "  /* unfitted */\n",
       "  background-color: var(--sklearn-color-fitted-level-0);\n",
       "}\n",
       "\n",
       "#sk-container-id-1 input.sk-toggleable__control:checked~div.sk-toggleable__content {\n",
       "  /* Expand drop-down */\n",
       "  max-height: 200px;\n",
       "  max-width: 100%;\n",
       "  overflow: auto;\n",
       "}\n",
       "\n",
       "#sk-container-id-1 input.sk-toggleable__control:checked~label.sk-toggleable__label-arrow:before {\n",
       "  content: \"▾\";\n",
       "}\n",
       "\n",
       "/* Pipeline/ColumnTransformer-specific style */\n",
       "\n",
       "#sk-container-id-1 div.sk-label input.sk-toggleable__control:checked~label.sk-toggleable__label {\n",
       "  color: var(--sklearn-color-text);\n",
       "  background-color: var(--sklearn-color-unfitted-level-2);\n",
       "}\n",
       "\n",
       "#sk-container-id-1 div.sk-label.fitted input.sk-toggleable__control:checked~label.sk-toggleable__label {\n",
       "  background-color: var(--sklearn-color-fitted-level-2);\n",
       "}\n",
       "\n",
       "/* Estimator-specific style */\n",
       "\n",
       "/* Colorize estimator box */\n",
       "#sk-container-id-1 div.sk-estimator input.sk-toggleable__control:checked~label.sk-toggleable__label {\n",
       "  /* unfitted */\n",
       "  background-color: var(--sklearn-color-unfitted-level-2);\n",
       "}\n",
       "\n",
       "#sk-container-id-1 div.sk-estimator.fitted input.sk-toggleable__control:checked~label.sk-toggleable__label {\n",
       "  /* fitted */\n",
       "  background-color: var(--sklearn-color-fitted-level-2);\n",
       "}\n",
       "\n",
       "#sk-container-id-1 div.sk-label label.sk-toggleable__label,\n",
       "#sk-container-id-1 div.sk-label label {\n",
       "  /* The background is the default theme color */\n",
       "  color: var(--sklearn-color-text-on-default-background);\n",
       "}\n",
       "\n",
       "/* On hover, darken the color of the background */\n",
       "#sk-container-id-1 div.sk-label:hover label.sk-toggleable__label {\n",
       "  color: var(--sklearn-color-text);\n",
       "  background-color: var(--sklearn-color-unfitted-level-2);\n",
       "}\n",
       "\n",
       "/* Label box, darken color on hover, fitted */\n",
       "#sk-container-id-1 div.sk-label.fitted:hover label.sk-toggleable__label.fitted {\n",
       "  color: var(--sklearn-color-text);\n",
       "  background-color: var(--sklearn-color-fitted-level-2);\n",
       "}\n",
       "\n",
       "/* Estimator label */\n",
       "\n",
       "#sk-container-id-1 div.sk-label label {\n",
       "  font-family: monospace;\n",
       "  font-weight: bold;\n",
       "  display: inline-block;\n",
       "  line-height: 1.2em;\n",
       "}\n",
       "\n",
       "#sk-container-id-1 div.sk-label-container {\n",
       "  text-align: center;\n",
       "}\n",
       "\n",
       "/* Estimator-specific */\n",
       "#sk-container-id-1 div.sk-estimator {\n",
       "  font-family: monospace;\n",
       "  border: 1px dotted var(--sklearn-color-border-box);\n",
       "  border-radius: 0.25em;\n",
       "  box-sizing: border-box;\n",
       "  margin-bottom: 0.5em;\n",
       "  /* unfitted */\n",
       "  background-color: var(--sklearn-color-unfitted-level-0);\n",
       "}\n",
       "\n",
       "#sk-container-id-1 div.sk-estimator.fitted {\n",
       "  /* fitted */\n",
       "  background-color: var(--sklearn-color-fitted-level-0);\n",
       "}\n",
       "\n",
       "/* on hover */\n",
       "#sk-container-id-1 div.sk-estimator:hover {\n",
       "  /* unfitted */\n",
       "  background-color: var(--sklearn-color-unfitted-level-2);\n",
       "}\n",
       "\n",
       "#sk-container-id-1 div.sk-estimator.fitted:hover {\n",
       "  /* fitted */\n",
       "  background-color: var(--sklearn-color-fitted-level-2);\n",
       "}\n",
       "\n",
       "/* Specification for estimator info (e.g. \"i\" and \"?\") */\n",
       "\n",
       "/* Common style for \"i\" and \"?\" */\n",
       "\n",
       ".sk-estimator-doc-link,\n",
       "a:link.sk-estimator-doc-link,\n",
       "a:visited.sk-estimator-doc-link {\n",
       "  float: right;\n",
       "  font-size: smaller;\n",
       "  line-height: 1em;\n",
       "  font-family: monospace;\n",
       "  background-color: var(--sklearn-color-background);\n",
       "  border-radius: 1em;\n",
       "  height: 1em;\n",
       "  width: 1em;\n",
       "  text-decoration: none !important;\n",
       "  margin-left: 1ex;\n",
       "  /* unfitted */\n",
       "  border: var(--sklearn-color-unfitted-level-1) 1pt solid;\n",
       "  color: var(--sklearn-color-unfitted-level-1);\n",
       "}\n",
       "\n",
       ".sk-estimator-doc-link.fitted,\n",
       "a:link.sk-estimator-doc-link.fitted,\n",
       "a:visited.sk-estimator-doc-link.fitted {\n",
       "  /* fitted */\n",
       "  border: var(--sklearn-color-fitted-level-1) 1pt solid;\n",
       "  color: var(--sklearn-color-fitted-level-1);\n",
       "}\n",
       "\n",
       "/* On hover */\n",
       "div.sk-estimator:hover .sk-estimator-doc-link:hover,\n",
       ".sk-estimator-doc-link:hover,\n",
       "div.sk-label-container:hover .sk-estimator-doc-link:hover,\n",
       ".sk-estimator-doc-link:hover {\n",
       "  /* unfitted */\n",
       "  background-color: var(--sklearn-color-unfitted-level-3);\n",
       "  color: var(--sklearn-color-background);\n",
       "  text-decoration: none;\n",
       "}\n",
       "\n",
       "div.sk-estimator.fitted:hover .sk-estimator-doc-link.fitted:hover,\n",
       ".sk-estimator-doc-link.fitted:hover,\n",
       "div.sk-label-container:hover .sk-estimator-doc-link.fitted:hover,\n",
       ".sk-estimator-doc-link.fitted:hover {\n",
       "  /* fitted */\n",
       "  background-color: var(--sklearn-color-fitted-level-3);\n",
       "  color: var(--sklearn-color-background);\n",
       "  text-decoration: none;\n",
       "}\n",
       "\n",
       "/* Span, style for the box shown on hovering the info icon */\n",
       ".sk-estimator-doc-link span {\n",
       "  display: none;\n",
       "  z-index: 9999;\n",
       "  position: relative;\n",
       "  font-weight: normal;\n",
       "  right: .2ex;\n",
       "  padding: .5ex;\n",
       "  margin: .5ex;\n",
       "  width: min-content;\n",
       "  min-width: 20ex;\n",
       "  max-width: 50ex;\n",
       "  color: var(--sklearn-color-text);\n",
       "  box-shadow: 2pt 2pt 4pt #999;\n",
       "  /* unfitted */\n",
       "  background: var(--sklearn-color-unfitted-level-0);\n",
       "  border: .5pt solid var(--sklearn-color-unfitted-level-3);\n",
       "}\n",
       "\n",
       ".sk-estimator-doc-link.fitted span {\n",
       "  /* fitted */\n",
       "  background: var(--sklearn-color-fitted-level-0);\n",
       "  border: var(--sklearn-color-fitted-level-3);\n",
       "}\n",
       "\n",
       ".sk-estimator-doc-link:hover span {\n",
       "  display: block;\n",
       "}\n",
       "\n",
       "/* \"?\"-specific style due to the `<a>` HTML tag */\n",
       "\n",
       "#sk-container-id-1 a.estimator_doc_link {\n",
       "  float: right;\n",
       "  font-size: 1rem;\n",
       "  line-height: 1em;\n",
       "  font-family: monospace;\n",
       "  background-color: var(--sklearn-color-background);\n",
       "  border-radius: 1rem;\n",
       "  height: 1rem;\n",
       "  width: 1rem;\n",
       "  text-decoration: none;\n",
       "  /* unfitted */\n",
       "  color: var(--sklearn-color-unfitted-level-1);\n",
       "  border: var(--sklearn-color-unfitted-level-1) 1pt solid;\n",
       "}\n",
       "\n",
       "#sk-container-id-1 a.estimator_doc_link.fitted {\n",
       "  /* fitted */\n",
       "  border: var(--sklearn-color-fitted-level-1) 1pt solid;\n",
       "  color: var(--sklearn-color-fitted-level-1);\n",
       "}\n",
       "\n",
       "/* On hover */\n",
       "#sk-container-id-1 a.estimator_doc_link:hover {\n",
       "  /* unfitted */\n",
       "  background-color: var(--sklearn-color-unfitted-level-3);\n",
       "  color: var(--sklearn-color-background);\n",
       "  text-decoration: none;\n",
       "}\n",
       "\n",
       "#sk-container-id-1 a.estimator_doc_link.fitted:hover {\n",
       "  /* fitted */\n",
       "  background-color: var(--sklearn-color-fitted-level-3);\n",
       "}\n",
       "</style><div id=\"sk-container-id-1\" class=\"sk-top-container\"><div class=\"sk-text-repr-fallback\"><pre>LinearRegression()</pre><b>In a Jupyter environment, please rerun this cell to show the HTML representation or trust the notebook. <br />On GitHub, the HTML representation is unable to render, please try loading this page with nbviewer.org.</b></div><div class=\"sk-container\" hidden><div class=\"sk-item\"><div class=\"sk-estimator fitted sk-toggleable\"><input class=\"sk-toggleable__control sk-hidden--visually\" id=\"sk-estimator-id-1\" type=\"checkbox\" checked><label for=\"sk-estimator-id-1\" class=\"sk-toggleable__label fitted sk-toggleable__label-arrow fitted\">&nbsp;&nbsp;LinearRegression<a class=\"sk-estimator-doc-link fitted\" rel=\"noreferrer\" target=\"_blank\" href=\"https://scikit-learn.org/1.4/modules/generated/sklearn.linear_model.LinearRegression.html\">?<span>Documentation for LinearRegression</span></a><span class=\"sk-estimator-doc-link fitted\">i<span>Fitted</span></span></label><div class=\"sk-toggleable__content fitted\"><pre>LinearRegression()</pre></div> </div></div></div></div>"
      ],
      "text/plain": [
       "LinearRegression()"
      ]
     },
     "execution_count": 72,
     "metadata": {},
     "output_type": "execute_result"
    }
   ],
   "source": [
    "lm.fit(X, y)"
   ]
  },
  {
   "cell_type": "code",
   "execution_count": 74,
   "id": "09b3e72f-7185-4961-95b8-cdf20303e47f",
   "metadata": {},
   "outputs": [],
   "source": [
    "# to get a in y_pred = ax +b:\n",
    "a = lm.coef_"
   ]
  },
  {
   "cell_type": "code",
   "execution_count": 76,
   "id": "0c880f03-6d92-4bbf-9875-1174bba3c309",
   "metadata": {},
   "outputs": [],
   "source": [
    "# to get b in y_pred = ax +b:\n",
    "b = lm.intercept_"
   ]
  },
  {
   "cell_type": "code",
   "execution_count": 78,
   "id": "84381816-6b2b-4b57-8798-8a923313ca6c",
   "metadata": {},
   "outputs": [
    {
     "data": {
      "text/plain": [
       "array([9.10210898])"
      ]
     },
     "execution_count": 78,
     "metadata": {},
     "output_type": "execute_result"
    }
   ],
   "source": [
    "a"
   ]
  },
  {
   "cell_type": "code",
   "execution_count": 80,
   "id": "75cc8c9b-8cdd-446a-97a9-b17f559502ed",
   "metadata": {},
   "outputs": [
    {
     "data": {
      "text/plain": [
       "-34.67062077643857"
      ]
     },
     "execution_count": 80,
     "metadata": {},
     "output_type": "execute_result"
    }
   ],
   "source": [
    "b"
   ]
  },
  {
   "cell_type": "markdown",
   "id": "8725c56e-6922-4a8a-9db2-5c9528f550db",
   "metadata": {},
   "source": [
    "### My equation is `y_pred = 9.1x - 34.67`"
   ]
  },
  {
   "cell_type": "code",
   "execution_count": 143,
   "id": "6715582d-7400-4f98-adb5-ed3bc62a6de4",
   "metadata": {},
   "outputs": [],
   "source": [
    "y_pred = 9.1 * df_2['Rooms'] - 34.67"
   ]
  },
  {
   "cell_type": "code",
   "execution_count": 95,
   "id": "99580c8d-ade9-4fde-af7d-d39e62c9a7d7",
   "metadata": {},
   "outputs": [
    {
     "name": "stderr",
     "output_type": "stream",
     "text": [
      "/opt/anaconda3/lib/python3.12/site-packages/sklearn/base.py:493: UserWarning: X does not have valid feature names, but LinearRegression was fitted with feature names\n",
      "  warnings.warn(\n"
     ]
    },
    {
     "data": {
      "text/plain": [
       "array([0.82760425])"
      ]
     },
     "execution_count": 95,
     "metadata": {},
     "output_type": "execute_result"
    }
   ],
   "source": [
    "lm.predict([[3.9]])"
   ]
  },
  {
   "cell_type": "markdown",
   "id": "384528da-c275-4410-b8f6-d7ba1a3596a5",
   "metadata": {},
   "source": [
    "### The approximation was not exactly accurate. How can we measure this?\n",
    "We use `r squared`"
   ]
  },
  {
   "cell_type": "code",
   "execution_count": 108,
   "id": "06c3b643-3a85-4c02-ad5a-fa19d5a531b8",
   "metadata": {},
   "outputs": [
    {
     "data": {
      "text/plain": [
       "0.48352545599133423"
      ]
     },
     "execution_count": 108,
     "metadata": {},
     "output_type": "execute_result"
    }
   ],
   "source": [
    "lm.score(X, y)"
   ]
  },
  {
   "cell_type": "markdown",
   "id": "8d0782a1-6545-4b5e-bfdb-e3df6d762130",
   "metadata": {},
   "source": [
    "In this case, `Rooms` informs 48.35% of the variability of `Value`. Let's see a case for multiple linear regression. Does it improve the relationship?"
   ]
  },
  {
   "cell_type": "markdown",
   "id": "2cbef5ea-2638-4d1b-8fb3-58debdd88827",
   "metadata": {},
   "source": [
    "## Let's graph this...\n",
    "\n",
    "- We want to graph the actual X and y\n",
    "- We want to graph the line of best fit (`y_pred`)"
   ]
  },
  {
   "cell_type": "code",
   "execution_count": 98,
   "id": "81768037-e77a-47e9-8766-0ba7c1f0147c",
   "metadata": {},
   "outputs": [],
   "source": [
    "import matplotlib.pyplot as plt"
   ]
  },
  {
   "cell_type": "code",
   "execution_count": 154,
   "id": "bc2cc486-8030-47f8-8301-65a8edeeaf3a",
   "metadata": {},
   "outputs": [
    {
     "data": {
      "image/png": "[encoded data removed]",
      "text/plain": [
       "<Figure size 1200x800 with 1 Axes>"
      ]
     },
     "metadata": {},
     "output_type": "display_data"
    }
   ],
   "source": [
    "# create a large enough empty graph\n",
    "plt.figure(figsize=(12, 8), tight_layout=True)\n",
    "\n",
    "# plot the actual X and y\n",
    "plt.scatter(df_2['Rooms'], df_2['Value'], label='Data Points')\n",
    "\n",
    "# plot the trendline y_pred\n",
    "plt.plot(df_2['Rooms'], y_pred, color='red', label='Trendline')\n",
    "\n",
    "# Labels and legend\n",
    "plt.xlabel('Rooms')\n",
    "plt.ylabel('Value')\n",
    "plt.title('Housing Value Predictor')\n",
    "plt.legend()\n",
    "plt.show()"
   ]
  },
  {
   "cell_type": "code",
   "execution_count": 120,
   "id": "45ba252f-7397-40a2-a01b-49c2b0e81030",
   "metadata": {},
   "outputs": [],
   "source": [
    "# Independent variable\n",
    "X_2 = df_2[['Rooms', 'Distance']]\n",
    "\n",
    "# Dependent variable\n",
    "y_2 = df_2['Value']"
   ]
  },
  {
   "cell_type": "code",
   "execution_count": 122,
   "id": "9e1472e8-334d-4303-9c9e-3cc7b564f36e",
   "metadata": {},
   "outputs": [],
   "source": [
    "lm_2 = LinearRegression()"
   ]
  },
  {
   "cell_type": "code",
   "execution_count": 124,
   "id": "bd9ef20d-74e0-436a-b209-1764cd13c6e4",
   "metadata": {},
   "outputs": [
    {
     "data": {
      "text/html": [
       "<style>#sk-container-id-2 {\n",
       "  /* Definition of color scheme common for light and dark mode */\n",
       "  --sklearn-color-text: black;\n",
       "  --sklearn-color-line: gray;\n",
       "  /* Definition of color scheme for unfitted estimators */\n",
       "  --sklearn-color-unfitted-level-0: #fff5e6;\n",
       "  --sklearn-color-unfitted-level-1: #f6e4d2;\n",
       "  --sklearn-color-unfitted-level-2: #ffe0b3;\n",
       "  --sklearn-color-unfitted-level-3: chocolate;\n",
       "  /* Definition of color scheme for fitted estimators */\n",
       "  --sklearn-color-fitted-level-0: #f0f8ff;\n",
       "  --sklearn-color-fitted-level-1: #d4ebff;\n",
       "  --sklearn-color-fitted-level-2: #b3dbfd;\n",
       "  --sklearn-color-fitted-level-3: cornflowerblue;\n",
       "\n",
       "  /* Specific color for light theme */\n",
       "  --sklearn-color-text-on-default-background: var(--sg-text-color, var(--theme-code-foreground, var(--jp-content-font-color1, black)));\n",
       "  --sklearn-color-background: var(--sg-background-color, var(--theme-background, var(--jp-layout-color0, white)));\n",
       "  --sklearn-color-border-box: var(--sg-text-color, var(--theme-code-foreground, var(--jp-content-font-color1, black)));\n",
       "  --sklearn-color-icon: #696969;\n",
       "\n",
       "  @media (prefers-color-scheme: dark) {\n",
       "    /* Redefinition of color scheme for dark theme */\n",
       "    --sklearn-color-text-on-default-background: var(--sg-text-color, var(--theme-code-foreground, var(--jp-content-font-color1, white)));\n",
       "    --sklearn-color-background: var(--sg-background-color, var(--theme-background, var(--jp-layout-color0, #111)));\n",
       "    --sklearn-color-border-box: var(--sg-text-color, var(--theme-code-foreground, var(--jp-content-font-color1, white)));\n",
       "    --sklearn-color-icon: #878787;\n",
       "  }\n",
       "}\n",
       "\n",
       "#sk-container-id-2 {\n",
       "  color: var(--sklearn-color-text);\n",
       "}\n",
       "\n",
       "#sk-container-id-2 pre {\n",
       "  padding: 0;\n",
       "}\n",
       "\n",
       "#sk-container-id-2 input.sk-hidden--visually {\n",
       "  border: 0;\n",
       "  clip: rect(1px 1px 1px 1px);\n",
       "  clip: rect(1px, 1px, 1px, 1px);\n",
       "  height: 1px;\n",
       "  margin: -1px;\n",
       "  overflow: hidden;\n",
       "  padding: 0;\n",
       "  position: absolute;\n",
       "  width: 1px;\n",
       "}\n",
       "\n",
       "#sk-container-id-2 div.sk-dashed-wrapped {\n",
       "  border: 1px dashed var(--sklearn-color-line);\n",
       "  margin: 0 0.4em 0.5em 0.4em;\n",
       "  box-sizing: border-box;\n",
       "  padding-bottom: 0.4em;\n",
       "  background-color: var(--sklearn-color-background);\n",
       "}\n",
       "\n",
       "#sk-container-id-2 div.sk-container {\n",
       "  /* jupyter's `normalize.less` sets `[hidden] { display: none; }`\n",
       "     but bootstrap.min.css set `[hidden] { display: none !important; }`\n",
       "     so we also need the `!important` here to be able to override the\n",
       "     default hidden behavior on the sphinx rendered scikit-learn.org.\n",
       "     See: https://github.com/scikit-learn/scikit-learn/issues/21755 */\n",
       "  display: inline-block !important;\n",
       "  position: relative;\n",
       "}\n",
       "\n",
       "#sk-container-id-2 div.sk-text-repr-fallback {\n",
       "  display: none;\n",
       "}\n",
       "\n",
       "div.sk-parallel-item,\n",
       "div.sk-serial,\n",
       "div.sk-item {\n",
       "  /* draw centered vertical line to link estimators */\n",
       "  background-image: linear-gradient(var(--sklearn-color-text-on-default-background), var(--sklearn-color-text-on-default-background));\n",
       "  background-size: 2px 100%;\n",
       "  background-repeat: no-repeat;\n",
       "  background-position: center center;\n",
       "}\n",
       "\n",
       "/* Parallel-specific style estimator block */\n",
       "\n",
       "#sk-container-id-2 div.sk-parallel-item::after {\n",
       "  content: \"\";\n",
       "  width: 100%;\n",
       "  border-bottom: 2px solid var(--sklearn-color-text-on-default-background);\n",
       "  flex-grow: 1;\n",
       "}\n",
       "\n",
       "#sk-container-id-2 div.sk-parallel {\n",
       "  display: flex;\n",
       "  align-items: stretch;\n",
       "  justify-content: center;\n",
       "  background-color: var(--sklearn-color-background);\n",
       "  position: relative;\n",
       "}\n",
       "\n",
       "#sk-container-id-2 div.sk-parallel-item {\n",
       "  display: flex;\n",
       "  flex-direction: column;\n",
       "}\n",
       "\n",
       "#sk-container-id-2 div.sk-parallel-item:first-child::after {\n",
       "  align-self: flex-end;\n",
       "  width: 50%;\n",
       "}\n",
       "\n",
       "#sk-container-id-2 div.sk-parallel-item:last-child::after {\n",
       "  align-self: flex-start;\n",
       "  width: 50%;\n",
       "}\n",
       "\n",
       "#sk-container-id-2 div.sk-parallel-item:only-child::after {\n",
       "  width: 0;\n",
       "}\n",
       "\n",
       "/* Serial-specific style estimator block */\n",
       "\n",
       "#sk-container-id-2 div.sk-serial {\n",
       "  display: flex;\n",
       "  flex-direction: column;\n",
       "  align-items: center;\n",
       "  background-color: var(--sklearn-color-background);\n",
       "  padding-right: 1em;\n",
       "  padding-left: 1em;\n",
       "}\n",
       "\n",
       "\n",
       "/* Toggleable style: style used for estimator/Pipeline/ColumnTransformer box that is\n",
       "clickable and can be expanded/collapsed.\n",
       "- Pipeline and ColumnTransformer use this feature and define the default style\n",
       "- Estimators will overwrite some part of the style using the `sk-estimator` class\n",
       "*/\n",
       "\n",
       "/* Pipeline and ColumnTransformer style (default) */\n",
       "\n",
       "#sk-container-id-2 div.sk-toggleable {\n",
       "  /* Default theme specific background. It is overwritten whether we have a\n",
       "  specific estimator or a Pipeline/ColumnTransformer */\n",
       "  background-color: var(--sklearn-color-background);\n",
       "}\n",
       "\n",
       "/* Toggleable label */\n",
       "#sk-container-id-2 label.sk-toggleable__label {\n",
       "  cursor: pointer;\n",
       "  display: block;\n",
       "  width: 100%;\n",
       "  margin-bottom: 0;\n",
       "  padding: 0.5em;\n",
       "  box-sizing: border-box;\n",
       "  text-align: center;\n",
       "}\n",
       "\n",
       "#sk-container-id-2 label.sk-toggleable__label-arrow:before {\n",
       "  /* Arrow on the left of the label */\n",
       "  content: \"▸\";\n",
       "  float: left;\n",
       "  margin-right: 0.25em;\n",
       "  color: var(--sklearn-color-icon);\n",
       "}\n",
       "\n",
       "#sk-container-id-2 label.sk-toggleable__label-arrow:hover:before {\n",
       "  color: var(--sklearn-color-text);\n",
       "}\n",
       "\n",
       "/* Toggleable content - dropdown */\n",
       "\n",
       "#sk-container-id-2 div.sk-toggleable__content {\n",
       "  max-height: 0;\n",
       "  max-width: 0;\n",
       "  overflow: hidden;\n",
       "  text-align: left;\n",
       "  /* unfitted */\n",
       "  background-color: var(--sklearn-color-unfitted-level-0);\n",
       "}\n",
       "\n",
       "#sk-container-id-2 div.sk-toggleable__content.fitted {\n",
       "  /* fitted */\n",
       "  background-color: var(--sklearn-color-fitted-level-0);\n",
       "}\n",
       "\n",
       "#sk-container-id-2 div.sk-toggleable__content pre {\n",
       "  margin: 0.2em;\n",
       "  border-radius: 0.25em;\n",
       "  color: var(--sklearn-color-text);\n",
       "  /* unfitted */\n",
       "  background-color: var(--sklearn-color-unfitted-level-0);\n",
       "}\n",
       "\n",
       "#sk-container-id-2 div.sk-toggleable__content.fitted pre {\n",
       "  /* unfitted */\n",
       "  background-color: var(--sklearn-color-fitted-level-0);\n",
       "}\n",
       "\n",
       "#sk-container-id-2 input.sk-toggleable__control:checked~div.sk-toggleable__content {\n",
       "  /* Expand drop-down */\n",
       "  max-height: 200px;\n",
       "  max-width: 100%;\n",
       "  overflow: auto;\n",
       "}\n",
       "\n",
       "#sk-container-id-2 input.sk-toggleable__control:checked~label.sk-toggleable__label-arrow:before {\n",
       "  content: \"▾\";\n",
       "}\n",
       "\n",
       "/* Pipeline/ColumnTransformer-specific style */\n",
       "\n",
       "#sk-container-id-2 div.sk-label input.sk-toggleable__control:checked~label.sk-toggleable__label {\n",
       "  color: var(--sklearn-color-text);\n",
       "  background-color: var(--sklearn-color-unfitted-level-2);\n",
       "}\n",
       "\n",
       "#sk-container-id-2 div.sk-label.fitted input.sk-toggleable__control:checked~label.sk-toggleable__label {\n",
       "  background-color: var(--sklearn-color-fitted-level-2);\n",
       "}\n",
       "\n",
       "/* Estimator-specific style */\n",
       "\n",
       "/* Colorize estimator box */\n",
       "#sk-container-id-2 div.sk-estimator input.sk-toggleable__control:checked~label.sk-toggleable__label {\n",
       "  /* unfitted */\n",
       "  background-color: var(--sklearn-color-unfitted-level-2);\n",
       "}\n",
       "\n",
       "#sk-container-id-2 div.sk-estimator.fitted input.sk-toggleable__control:checked~label.sk-toggleable__label {\n",
       "  /* fitted */\n",
       "  background-color: var(--sklearn-color-fitted-level-2);\n",
       "}\n",
       "\n",
       "#sk-container-id-2 div.sk-label label.sk-toggleable__label,\n",
       "#sk-container-id-2 div.sk-label label {\n",
       "  /* The background is the default theme color */\n",
       "  color: var(--sklearn-color-text-on-default-background);\n",
       "}\n",
       "\n",
       "/* On hover, darken the color of the background */\n",
       "#sk-container-id-2 div.sk-label:hover label.sk-toggleable__label {\n",
       "  color: var(--sklearn-color-text);\n",
       "  background-color: var(--sklearn-color-unfitted-level-2);\n",
       "}\n",
       "\n",
       "/* Label box, darken color on hover, fitted */\n",
       "#sk-container-id-2 div.sk-label.fitted:hover label.sk-toggleable__label.fitted {\n",
       "  color: var(--sklearn-color-text);\n",
       "  background-color: var(--sklearn-color-fitted-level-2);\n",
       "}\n",
       "\n",
       "/* Estimator label */\n",
       "\n",
       "#sk-container-id-2 div.sk-label label {\n",
       "  font-family: monospace;\n",
       "  font-weight: bold;\n",
       "  display: inline-block;\n",
       "  line-height: 1.2em;\n",
       "}\n",
       "\n",
       "#sk-container-id-2 div.sk-label-container {\n",
       "  text-align: center;\n",
       "}\n",
       "\n",
       "/* Estimator-specific */\n",
       "#sk-container-id-2 div.sk-estimator {\n",
       "  font-family: monospace;\n",
       "  border: 1px dotted var(--sklearn-color-border-box);\n",
       "  border-radius: 0.25em;\n",
       "  box-sizing: border-box;\n",
       "  margin-bottom: 0.5em;\n",
       "  /* unfitted */\n",
       "  background-color: var(--sklearn-color-unfitted-level-0);\n",
       "}\n",
       "\n",
       "#sk-container-id-2 div.sk-estimator.fitted {\n",
       "  /* fitted */\n",
       "  background-color: var(--sklearn-color-fitted-level-0);\n",
       "}\n",
       "\n",
       "/* on hover */\n",
       "#sk-container-id-2 div.sk-estimator:hover {\n",
       "  /* unfitted */\n",
       "  background-color: var(--sklearn-color-unfitted-level-2);\n",
       "}\n",
       "\n",
       "#sk-container-id-2 div.sk-estimator.fitted:hover {\n",
       "  /* fitted */\n",
       "  background-color: var(--sklearn-color-fitted-level-2);\n",
       "}\n",
       "\n",
       "/* Specification for estimator info (e.g. \"i\" and \"?\") */\n",
       "\n",
       "/* Common style for \"i\" and \"?\" */\n",
       "\n",
       ".sk-estimator-doc-link,\n",
       "a:link.sk-estimator-doc-link,\n",
       "a:visited.sk-estimator-doc-link {\n",
       "  float: right;\n",
       "  font-size: smaller;\n",
       "  line-height: 1em;\n",
       "  font-family: monospace;\n",
       "  background-color: var(--sklearn-color-background);\n",
       "  border-radius: 1em;\n",
       "  height: 1em;\n",
       "  width: 1em;\n",
       "  text-decoration: none !important;\n",
       "  margin-left: 1ex;\n",
       "  /* unfitted */\n",
       "  border: var(--sklearn-color-unfitted-level-1) 1pt solid;\n",
       "  color: var(--sklearn-color-unfitted-level-1);\n",
       "}\n",
       "\n",
       ".sk-estimator-doc-link.fitted,\n",
       "a:link.sk-estimator-doc-link.fitted,\n",
       "a:visited.sk-estimator-doc-link.fitted {\n",
       "  /* fitted */\n",
       "  border: var(--sklearn-color-fitted-level-1) 1pt solid;\n",
       "  color: var(--sklearn-color-fitted-level-1);\n",
       "}\n",
       "\n",
       "/* On hover */\n",
       "div.sk-estimator:hover .sk-estimator-doc-link:hover,\n",
       ".sk-estimator-doc-link:hover,\n",
       "div.sk-label-container:hover .sk-estimator-doc-link:hover,\n",
       ".sk-estimator-doc-link:hover {\n",
       "  /* unfitted */\n",
       "  background-color: var(--sklearn-color-unfitted-level-3);\n",
       "  color: var(--sklearn-color-background);\n",
       "  text-decoration: none;\n",
       "}\n",
       "\n",
       "div.sk-estimator.fitted:hover .sk-estimator-doc-link.fitted:hover,\n",
       ".sk-estimator-doc-link.fitted:hover,\n",
       "div.sk-label-container:hover .sk-estimator-doc-link.fitted:hover,\n",
       ".sk-estimator-doc-link.fitted:hover {\n",
       "  /* fitted */\n",
       "  background-color: var(--sklearn-color-fitted-level-3);\n",
       "  color: var(--sklearn-color-background);\n",
       "  text-decoration: none;\n",
       "}\n",
       "\n",
       "/* Span, style for the box shown on hovering the info icon */\n",
       ".sk-estimator-doc-link span {\n",
       "  display: none;\n",
       "  z-index: 9999;\n",
       "  position: relative;\n",
       "  font-weight: normal;\n",
       "  right: .2ex;\n",
       "  padding: .5ex;\n",
       "  margin: .5ex;\n",
       "  width: min-content;\n",
       "  min-width: 20ex;\n",
       "  max-width: 50ex;\n",
       "  color: var(--sklearn-color-text);\n",
       "  box-shadow: 2pt 2pt 4pt #999;\n",
       "  /* unfitted */\n",
       "  background: var(--sklearn-color-unfitted-level-0);\n",
       "  border: .5pt solid var(--sklearn-color-unfitted-level-3);\n",
       "}\n",
       "\n",
       ".sk-estimator-doc-link.fitted span {\n",
       "  /* fitted */\n",
       "  background: var(--sklearn-color-fitted-level-0);\n",
       "  border: var(--sklearn-color-fitted-level-3);\n",
       "}\n",
       "\n",
       ".sk-estimator-doc-link:hover span {\n",
       "  display: block;\n",
       "}\n",
       "\n",
       "/* \"?\"-specific style due to the `<a>` HTML tag */\n",
       "\n",
       "#sk-container-id-2 a.estimator_doc_link {\n",
       "  float: right;\n",
       "  font-size: 1rem;\n",
       "  line-height: 1em;\n",
       "  font-family: monospace;\n",
       "  background-color: var(--sklearn-color-background);\n",
       "  border-radius: 1rem;\n",
       "  height: 1rem;\n",
       "  width: 1rem;\n",
       "  text-decoration: none;\n",
       "  /* unfitted */\n",
       "  color: var(--sklearn-color-unfitted-level-1);\n",
       "  border: var(--sklearn-color-unfitted-level-1) 1pt solid;\n",
       "}\n",
       "\n",
       "#sk-container-id-2 a.estimator_doc_link.fitted {\n",
       "  /* fitted */\n",
       "  border: var(--sklearn-color-fitted-level-1) 1pt solid;\n",
       "  color: var(--sklearn-color-fitted-level-1);\n",
       "}\n",
       "\n",
       "/* On hover */\n",
       "#sk-container-id-2 a.estimator_doc_link:hover {\n",
       "  /* unfitted */\n",
       "  background-color: var(--sklearn-color-unfitted-level-3);\n",
       "  color: var(--sklearn-color-background);\n",
       "  text-decoration: none;\n",
       "}\n",
       "\n",
       "#sk-container-id-2 a.estimator_doc_link.fitted:hover {\n",
       "  /* fitted */\n",
       "  background-color: var(--sklearn-color-fitted-level-3);\n",
       "}\n",
       "</style><div id=\"sk-container-id-2\" class=\"sk-top-container\"><div class=\"sk-text-repr-fallback\"><pre>LinearRegression()</pre><b>In a Jupyter environment, please rerun this cell to show the HTML representation or trust the notebook. <br />On GitHub, the HTML representation is unable to render, please try loading this page with nbviewer.org.</b></div><div class=\"sk-container\" hidden><div class=\"sk-item\"><div class=\"sk-estimator fitted sk-toggleable\"><input class=\"sk-toggleable__control sk-hidden--visually\" id=\"sk-estimator-id-2\" type=\"checkbox\" checked><label for=\"sk-estimator-id-2\" class=\"sk-toggleable__label fitted sk-toggleable__label-arrow fitted\">&nbsp;&nbsp;LinearRegression<a class=\"sk-estimator-doc-link fitted\" rel=\"noreferrer\" target=\"_blank\" href=\"https://scikit-learn.org/1.4/modules/generated/sklearn.linear_model.LinearRegression.html\">?<span>Documentation for LinearRegression</span></a><span class=\"sk-estimator-doc-link fitted\">i<span>Fitted</span></span></label><div class=\"sk-toggleable__content fitted\"><pre>LinearRegression()</pre></div> </div></div></div></div>"
      ],
      "text/plain": [
       "LinearRegression()"
      ]
     },
     "execution_count": 124,
     "metadata": {},
     "output_type": "execute_result"
    }
   ],
   "source": [
    "lm_2.fit(X_2, y_2)"
   ]
  },
  {
   "cell_type": "code",
   "execution_count": 126,
   "id": "29148fed-b1ef-462b-b48a-5b17c9061824",
   "metadata": {},
   "outputs": [],
   "source": [
    "# to get a in y_pred = ax +b:\n",
    "a = lm_2.coef_"
   ]
  },
  {
   "cell_type": "code",
   "execution_count": 128,
   "id": "018a17c1-8085-4b62-ba4e-d02de10cae95",
   "metadata": {},
   "outputs": [],
   "source": [
    "# to get b in y_pred = ax +b:\n",
    "b = lm_2.intercept_"
   ]
  },
  {
   "cell_type": "code",
   "execution_count": 130,
   "id": "ac7b51a4-097f-490f-9444-387e3551789e",
   "metadata": {},
   "outputs": [
    {
     "data": {
      "text/plain": [
       "array([8.80141183, 0.48884854])"
      ]
     },
     "execution_count": 130,
     "metadata": {},
     "output_type": "execute_result"
    }
   ],
   "source": [
    "a"
   ]
  },
  {
   "cell_type": "code",
   "execution_count": 132,
   "id": "6e3ee79b-151e-4d8d-a432-3e196c41eccb",
   "metadata": {},
   "outputs": [
    {
     "data": {
      "text/plain": [
       "-34.636050175473315"
      ]
     },
     "execution_count": 132,
     "metadata": {},
     "output_type": "execute_result"
    }
   ],
   "source": [
    "b"
   ]
  },
  {
   "cell_type": "markdown",
   "id": "d04799c2-9978-4893-89ef-31490b02fc1d",
   "metadata": {},
   "source": [
    "### My equation is `y_pred = 8.8x1 + 0.49x2 - 34.63`"
   ]
  },
  {
   "cell_type": "code",
   "execution_count": 127,
   "id": "566fd09a-aec2-4af7-b5ec-c53a6f47bfff",
   "metadata": {},
   "outputs": [],
   "source": [
    "y_pred_2 = 8.8 * df_2['Rooms'] + 0.49 * df_2['Distance'] - 34.63"
   ]
  },
  {
   "cell_type": "code",
   "execution_count": 137,
   "id": "bcf44550-7b19-4586-95fe-4093a0f8a1ee",
   "metadata": {},
   "outputs": [
    {
     "name": "stderr",
     "output_type": "stream",
     "text": [
      "/opt/anaconda3/lib/python3.12/site-packages/sklearn/base.py:493: UserWarning: X does not have valid feature names, but LinearRegression was fitted with feature names\n",
      "  warnings.warn(\n"
     ]
    },
    {
     "data": {
      "text/plain": [
       "array([19.41364706])"
      ]
     },
     "execution_count": 137,
     "metadata": {},
     "output_type": "execute_result"
    }
   ],
   "source": [
    "lm_2.predict([[5.790, 6.3200]])"
   ]
  },
  {
   "cell_type": "code",
   "execution_count": 139,
   "id": "e659a090-2336-49fe-828e-fcaab1803aac",
   "metadata": {},
   "outputs": [
    {
     "data": {
      "text/plain": [
       "0.4955246476058477"
      ]
     },
     "execution_count": 139,
     "metadata": {},
     "output_type": "execute_result"
    }
   ],
   "source": [
    "lm_2.score(X_2, y_2)"
   ]
  },
  {
   "cell_type": "code",
   "execution_count": null,
   "id": "8d2a62b7-d02c-45fa-b4e9-f38c404064c5",
   "metadata": {},
   "outputs": [],
   "source": []
  }
 ],
 "metadata": {
  "kernelspec": {
   "display_name": "Python 3 (ipykernel)",
   "language": "python",
   "name": "python3"
  },
  "language_info": {
   "codemirror_mode": {
    "name": "ipython",
    "version": 3
   },
   "file_extension": ".py",
   "mimetype": "text/x-python",
   "name": "python",
   "nbconvert_exporter": "python",
   "pygments_lexer": "ipython3",
   "version": "3.12.4"
  }
 },
 "nbformat": 4,
 "nbformat_minor": 5
}
