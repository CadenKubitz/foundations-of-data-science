{
 "cells": [
  {
   "cell_type": "code",
   "execution_count": 29,
   "id": "61b0619b-2992-44e5-b7e4-f3c0dd0f0da9",
   "metadata": {},
   "outputs": [
    {
     "name": "stdout",
     "output_type": "stream",
     "text": [
      "Requirement already satisfied: plotly in /opt/anaconda3/lib/python3.12/site-packages (5.22.0)\n",
      "Requirement already satisfied: tenacity>=6.2.0 in /opt/anaconda3/lib/python3.12/site-packages (from plotly) (8.2.2)\n",
      "Requirement already satisfied: packaging in /opt/anaconda3/lib/python3.12/site-packages (from plotly) (23.2)\n"
     ]
    }
   ],
   "source": [
    "!pip install plotly"
   ]
  },
  {
   "cell_type": "code",
   "execution_count": 113,
   "id": "54c49d67-a51d-4b7e-a71a-81a24558fb52",
   "metadata": {},
   "outputs": [],
   "source": [
    "import pandas as pd\n",
    "import plotly.express as px"
   ]
  },
  {
   "cell_type": "code",
   "execution_count": 115,
   "id": "51899b3d-d1ad-4321-9c31-d042028a3fed",
   "metadata": {},
   "outputs": [],
   "source": [
    "df = pd.read_csv(\"scores.csv\")"
   ]
  },
  {
   "cell_type": "code",
   "execution_count": 119,
   "id": "2dd215f2-d13f-4fc7-a5d8-213846eecf5a",
   "metadata": {},
   "outputs": [
    {
     "data": {
      "text/html": [
       "<div>\n",
       "<style scoped>\n",
       "    .dataframe tbody tr th:only-of-type {\n",
       "        vertical-align: middle;\n",
       "    }\n",
       "\n",
       "    .dataframe tbody tr th {\n",
       "        vertical-align: top;\n",
       "    }\n",
       "\n",
       "    .dataframe thead th {\n",
       "        text-align: right;\n",
       "    }\n",
       "</style>\n",
       "<table border=\"1\" class=\"dataframe\">\n",
       "  <thead>\n",
       "    <tr style=\"text-align: right;\">\n",
       "      <th></th>\n",
       "      <th>School ID</th>\n",
       "      <th>School Name</th>\n",
       "      <th>Borough</th>\n",
       "      <th>Building Code</th>\n",
       "      <th>Street Address</th>\n",
       "      <th>City</th>\n",
       "      <th>State</th>\n",
       "      <th>Zip Code</th>\n",
       "      <th>Latitude</th>\n",
       "      <th>Longitude</th>\n",
       "      <th>...</th>\n",
       "      <th>End Time</th>\n",
       "      <th>Student Enrollment</th>\n",
       "      <th>Percent White</th>\n",
       "      <th>Percent Black</th>\n",
       "      <th>Percent Hispanic</th>\n",
       "      <th>Percent Asian</th>\n",
       "      <th>Average Score (SAT Math)</th>\n",
       "      <th>Average Score (SAT Reading)</th>\n",
       "      <th>Average Score (SAT Writing)</th>\n",
       "      <th>Percent Tested</th>\n",
       "    </tr>\n",
       "  </thead>\n",
       "  <tbody>\n",
       "    <tr>\n",
       "      <th>0</th>\n",
       "      <td>02M260</td>\n",
       "      <td>Clinton School Writers and Artists</td>\n",
       "      <td>Manhattan</td>\n",
       "      <td>M933</td>\n",
       "      <td>425 West 33rd Street</td>\n",
       "      <td>Manhattan</td>\n",
       "      <td>NY</td>\n",
       "      <td>10001</td>\n",
       "      <td>40.75321</td>\n",
       "      <td>-73.99786</td>\n",
       "      <td>...</td>\n",
       "      <td>NaN</td>\n",
       "      <td>NaN</td>\n",
       "      <td>NaN</td>\n",
       "      <td>NaN</td>\n",
       "      <td>NaN</td>\n",
       "      <td>NaN</td>\n",
       "      <td>NaN</td>\n",
       "      <td>NaN</td>\n",
       "      <td>NaN</td>\n",
       "      <td>NaN</td>\n",
       "    </tr>\n",
       "  </tbody>\n",
       "</table>\n",
       "<p>1 rows × 22 columns</p>\n",
       "</div>"
      ],
      "text/plain": [
       "  School ID                         School Name    Borough Building Code  \\\n",
       "0    02M260  Clinton School Writers and Artists  Manhattan          M933   \n",
       "\n",
       "         Street Address       City State  Zip Code  Latitude  Longitude  ...  \\\n",
       "0  425 West 33rd Street  Manhattan    NY     10001  40.75321  -73.99786  ...   \n",
       "\n",
       "  End Time Student Enrollment Percent White  Percent Black Percent Hispanic  \\\n",
       "0      NaN                NaN           NaN            NaN              NaN   \n",
       "\n",
       "  Percent Asian Average Score (SAT Math) Average Score (SAT Reading)  \\\n",
       "0           NaN                      NaN                         NaN   \n",
       "\n",
       "   Average Score (SAT Writing)  Percent Tested  \n",
       "0                          NaN             NaN  \n",
       "\n",
       "[1 rows x 22 columns]"
      ]
     },
     "execution_count": 119,
     "metadata": {},
     "output_type": "execute_result"
    }
   ],
   "source": [
    "df.head(1)"
   ]
  },
  {
   "cell_type": "code",
   "execution_count": 123,
   "id": "5b86d7aa-1e7a-4495-b85a-1770ce8584d1",
   "metadata": {},
   "outputs": [],
   "source": [
    "df['Percent_Tested'] = df['Percent Tested'].str.replace('%', '').astype(float)"
   ]
  },
  {
   "cell_type": "code",
   "execution_count": 125,
   "id": "926471c3-7e77-46f6-a771-a9617f7fb2cb",
   "metadata": {},
   "outputs": [],
   "source": [
    "df = df[df['Percent_Tested'] > 0]"
   ]
  },
  {
   "cell_type": "code",
   "execution_count": 149,
   "id": "c5472831-99ce-4dbd-832d-3624be6fec9d",
   "metadata": {},
   "outputs": [],
   "source": [
    "fig = px.scatter_mapbox(\n",
    "    df,\n",
    "    lat=\"Latitude\",\n",
    "    lon=\"Longitude\",\n",
    "    color=\"Percent_Tested\",\n",
    "    color_continuous_scale='RdYlGn',\n",
    "    size_max=30,\n",
    "    zoom=4,\n",
    "    hover_name='School Name',\n",
    "    mapbox_style=\"carto-positron\",\n",
    "    title=\"Schools Colored by Percent Tested\"\n",
    ")"
   ]
  },
  {
   "cell_type": "code",
   "execution_count": 151,
   "id": "9bd1cacc-35a4-416a-9f2a-8f5e4081a7d9",
   "metadata": {},
   "outputs": [
    {
     "data": {
      "application/vnd.plotly.v1+json": {
       "config": {
        "plotlyServerURL": "https://plot.ly"
       },
       "data": [
        {
         "hovertemplate": "<b>%{hovertext}</b><br><br>Latitude=%{lat}<br>Longitude=%{lon}<br>Percent_Tested=%{marker.color}<extra></extra>",
         "hovertext": [
          "New Explorations into Science, Technology and Math High School",
          "Essex Street Academy",
          "Lower Manhattan Arts Academy",
          "High School for Dual Language and Asian Studies",
          "Henry Street School for International Studies",
          "Bard High School Early College",
          "Urban Assembly Academy of Government and Law",
          "Marta Valle High School",
          "University Neighborhood High School",
          "New Design High School",
          "Pace High School",
          "High School for Health Professions and Human Services",
          "High School for Language and Diplomacy",
          "International High School at Union Square",
          "Institute for Collaborative Education",
          "Gramercy Arts High School",
          "Urban Assembly New York Harbor School",
          "Richard R. Green High School of Teaching",
          "Millennium High School",
          "Urban Assembly School of Business for Young Women",
          "High School of Economics and Finance",
          "Leadership and Public Service High School",
          "East Side Community School",
          "Baruch College Campus High School",
          "47 American Sign Language and English Secondary School",
          "School of the Future High School",
          "Manhattan Village Academy",
          "NYC Lab School for Collaborative Studies",
          "Hudson High School of Learning Technologies",
          "Manhattan Business Academy",
          "Landmark High School",
          "High School of Fashion Industries",
          "NYC Museum School",
          "Chelsea Career and Technical Education High School",
          "NYC iSchool",
          "Manhattan Academy for Arts and Language",
          "Unity Center for Urban Technologies",
          "Business of Sports School",
          "Facing History School",
          "High School of Hospitality Management",
          "Urban Assembly School of Design and Construction",
          "High School for Environmental Studies",
          "Art and Design High School",
          "Manhattan Bridges High School",
          "Urban Assembly Gateway School for Technology",
          "Food and Finance High School",
          "Eleanor Roosevelt High School",
          "High School for Arts, Imagination, and Inquiry",
          "Urban Assembly School for Media Studies",
          "Beacon High School",
          "Fiorello H. LaGuardia High School of Music and Art and Performing Arts",
          "High School of Arts and Technology",
          "Manhattan / Hunter Science High School",
          "High School for Law, Advocacy, and Community Justice",
          "Urban Assembly School for Green Careers",
          "Frank McCourt High School",
          "Global Learning Collaborative",
          "Wadleigh Secondary School for the Performing and Visual Arts",
          "Frederick Douglass Academy II Secondary School",
          "Columbia Secondary School",
          "Academy for Social Action (College Board)",
          "Urban Assembly School for the Performing Arts",
          "Heritage School",
          "Central Park East High School",
          "Park East High School",
          "Young Women's Leadership School",
          "Manhattan Center for Science and Mathematics",
          "Mott Hall High School",
          "Thurgood Marshall Academy for Learning and Social Change",
          "High School for Mathematics, Science, and Engineering at City College",
          "A. Philip Randolph Campus High School",
          "Gregorio Luperon High School for Science and Mathematics",
          "Community Health Academy of the Heights",
          "Washington Heights Expeditionary Learning School",
          "Coalition School for Social Change",
          "Repertory Company High School for Theatre Arts",
          "Professional Performing Arts High School",
          "Jacqueline Kennedy Onassis High School",
          "Murry Bergtraum High School for Business Careers",
          "Frederick Douglass Academy",
          "High School for Media and Communications",
          "College Academy",
          "High School for Law and Public Service",
          "City College Academy of the Arts",
          "High School for Health Careers and Sciences",
          "Manhattan International High School",
          "Talent Unlimited High School",
          "Vanguard High School",
          "Life Sciences Secondary School",
          "Stuyvesant High School",
          "Ralph R. McKee Career and Technical Education High School",
          "Michael J. Petrides School",
          "Curtis High School",
          "Port Richmond High School",
          "Staten Island Technical High School",
          "New Dorp High School",
          "Tottenville High School",
          "Susan E. Wagner High School",
          "Gaynor McCown Expeditionary Learning School",
          "CSI High School for International Studies",
          "Bronx Design and Construction Academy",
          "New Explorers High School",
          "Bronx School for Law, Government, and Justice",
          "Urban Assembly School for Careers in Sports",
          "Bronx Leadership Academy II High School",
          "Urban Assembly Bronx Academy of Letters",
          "Health Opportunities High School",
          "Community School for Social Justice",
          "Alfred E. Smith Career and Technical Education High School",
          "Academy for Language and Technology",
          "South Bronx Preparatory (College Board)",
          "International Community High School",
          "Foreign Language Academy of Global Studies",
          "Hostos-Lincoln Academy of Science",
          "University Heights Secondary School",
          "Mott Haven Village Preparatory High School",
          "High School for Violin and Dance",
          "Bronx International High School",
          "Bronx Career and College Preparatory High School",
          "Bronx Center for Science and Mathematics",
          "Bronx Early College Academy for Teaching and Learning",
          "Eximius College Preparatory Academy (College Board)",
          "Bronx Latin",
          "School for Excellence",
          "Morris Academy for Collaborative Studies",
          "Frederick Douglass Academy III Secondary School",
          "Urban Assembly School for Applied Math and Science",
          "Bronx Collegiate Academy",
          "Mott Hall Bronx High School",
          "Leadership Institute",
          "Bronx Leadership Academy High School",
          "Validus Preparatory Academy: An Expeditionary Learning School",
          "Bronx High School for Medical Science",
          "Eagle Academy for Young Men",
          "Bronx High School of Business",
          "DreamYard Preparatory School",
          "Theatre Arts Production Company School",
          "West Bronx Academy for the Future",
          "Bronx High School for Law and Community Service",
          "Belmont Preparatory High School",
          "Fordham High School for the Arts",
          "Knowledge and Power Preparatory Academy International High School (KAPPA)",
          "Fordham Leadership Academy for Business and Technology",
          "Metropolitan High School",
          "Holcombe L. Rucker School of Community Research",
          "Banana Kelly High School",
          "Bronx Studio School for Writers and Artists",
          "Peace and Diversity Academy",
          "East Bronx Academy for the Future",
          "Bronx Envision Academy",
          "Fannie Lou Hamer Freedom High School",
          "Explorations Academy",
          "Urban Assembly School for Wildlife Conservation",
          "Wings Academy",
          "Renaissance High School for Musical Theater and Technology",
          "Herbert H. Lehman High School",
          "Bronx High School for the Visual Arts",
          "In-Tech Academy",
          "Bronx School of Law and Finance",
          "Bronx Engineering and Technology Academy",
          "Bronx Theatre High School",
          "Marble Hill High School for International Studies",
          "Marie Curie School for Medicine, Nursing, and Health Professions",
          "Riverdale/Kingsbridge Academy",
          "New World High School",
          "Bronxwood Preparatory Academy",
          "Academy for Scholarship and Entrepreneurship (College Board)",
          "High School for Contemporary Arts",
          "Bronx Aerospace High School",
          "Bronx Academy of Health Careers",
          "High School of Computers and Technology",
          "Bronx Lab School",
          "Bronx High School for Writing and Communication Arts",
          "High School for Teaching and the Professions",
          "Bronx High School of Science",
          "Kingsbridge International High School",
          "Discovery High School",
          "Celia Cruz Bronx High School of Music",
          "High School of American Studies at Lehman College",
          "DeWitt Clinton High School",
          "International School for Liberal Arts",
          "Astor Collegiate Academy",
          "Pelham Preparatory Academy",
          "High School of Language and Innovation",
          "Collegiate Institute for Math and Science",
          "Bronxdale High School",
          "Pan American International High School at Monroe",
          "Cinema School",
          "Monroe Academy for Visual Arts and Design",
          "Mott Hall V",
          "Metropolitan Soundview High School",
          "High School of World Cultures",
          "Millennium Art Academy",
          "Bronx Guild",
          "Archimedes Academy for Math, Science, and Technology Applications",
          "Bronx Bridges High School",
          "Pablo Neruda Academy",
          "Women's Academy of Excellence",
          "Felisa Rincon de Gautier Institute for Law and Public Policy",
          "Antonia Pantoja Preparatory Academy (College Board)",
          "Bronx Health Sciences High School",
          "Harry S. Truman High School",
          "Queens Vocational and Technical High School",
          "High School of Applied Communication",
          "Middle College High School at LaGuardia Community College",
          "Academy for Careers in Television and Film",
          "Aviation Career and Technical Education High School",
          "Academy of American Studies",
          "Newcomers High School",
          "Bard High School Early College Queens",
          "International High School at LaGuardia Community College",
          "Information Technology High School",
          "Robert F. Wagner Jr. Secondary School for Arts and Technology",
          "Academy of Finance and Enterprise",
          "Young Women's Leadership School in Astoria",
          "William Cullen Bryant High School",
          "Long Island City High School",
          "Frank Sinatra School of the Arts High School",
          "Baccalaureate School for Global Education",
          "Science Skills Center High School for Science, Technology, and the Creative Arts",
          "Brooklyn International High School",
          "School for International Studies",
          "Brooklyn School for Global Studies",
          "City Polytechnic High School of Engineering, Architecture, and Technology",
          "Urban Assembly Institute of Math and Science for Young Women",
          "Urban Assembly School for Law and Justice",
          "Cobble Hill School of American Studies",
          "George Westinghouse Career and Technical Education High School",
          "Urban Assembly High School of Music and Art",
          "Cultural Academy for the Arts and Sciences",
          "Kurt Hahn Expeditionary Learning School",
          "School for Human Rights",
          "It Takes a Village Academy",
          "High School for Public Service: Heroes of Tomorrow",
          "Arts and Media Preparatory Academy",
          "School for Democracy and Leadership",
          "Urban Assembly School for Criminal Justice",
          "Franklin Delano Roosevelt High School",
          "Brooklyn Community High School of Communication, Arts, and Media",
          "Dr. Susan S. McKinney Secondary School of the Arts",
          "Benjamin Banneker Academy",
          "Juan Morel Campos Secondary School",
          "Brooklyn Latin School",
          "Foundations Academy",
          "Green School: An Academy for Environmental Careers",
          "Lyons Community School",
          "World Academy for Total Community Health High School",
          "FDNY High School for Fire and Life Safety",
          "W. H. Maxwell Career and Technical Education High School",
          "High School for Civil Rights",
          "Performing Arts and Technology High School",
          "East New York Family Academy",
          "Brooklyn Lab School",
          "Multicultural High School",
          "School for Classics: An Academy of Thinkers, Writers, and Performers",
          "Transit Tech Career and Technical Education High School",
          "Cypress Hills Collegiate Preparatory School",
          "Academy for Young Writers",
          "Academy of Innovative Technology",
          "Fort Hamilton High School",
          "Midwood High School",
          "PROGRESS High School for Professional Careers",
          "High School for Enterprise, Business, and Technology",
          "Brooklyn Preparatory High School",
          "El Puente Academy for Peace and Justice",
          "School for Legal Studies",
          "Williamsburg Preparatory School",
          "Williamsburg High School for Architecture and Design",
          "Frederick Douglass Academy VII High School",
          "Teachers Preparatory High School",
          "Pathways in Technology Early College High School",
          "Academy for Health Careers",
          "Boys and Girls High School",
          "High School of Sports Management",
          "Brooklyn Studio Secondary School",
          "International High School at Lafayette",
          "Expeditionary Learning School for Community Leaders",
          "New Utrecht High School",
          "Life Academy High School for Film and Music",
          "Kingsborough Early College School",
          "Secondary School for Journalism",
          "Millennium Brooklyn High School",
          "Park Slope Collegiate",
          "Secondary School for Law",
          "Bedford Academy High School",
          "Brooklyn High School of the Arts",
          "Brooklyn Technical High School",
          "Brooklyn College Academy",
          "High School of Telecommunication Arts and Technology",
          "EBC High School for Public Service in Bushwick",
          "Brooklyn High School for Law and Technology",
          "Brooklyn Academy of Global Finance",
          "Frederick Douglass Academy IV Secondary School",
          "Bushwick Leaders High School for Academic Excellence",
          "Automotive High School",
          "Frances Perkins Academy",
          "John Dewey High School",
          "Rachel Carson High School for Coastal Studies",
          "Brooklyn School for Music and Theatre",
          "Brooklyn Academy of Science and the Environment",
          "Medgar Evers College Preparatory School",
          "Clara Barton High School",
          "International High School at Prospect Heights",
          "High School for Global Citizenship",
          "Science, Technology, and Research Early College High School at Erasmus",
          "Academy for College Preparation and Career Exploration (College Board)",
          "High School for Youth and Community Development at Erasmus",
          "High School for Service and Learning at Erasmus",
          "Academy of Hospitality and Tourism",
          "James Madison High School",
          "Edward R. Murrow High School",
          "Brooklyn Secondary School for Collaborative Studies",
          "Sunset Park High School",
          "Brooklyn Collegiate (College Board)",
          "Gotham Professional Arts Academy",
          "Leon M. Goldstein High School for the Sciences",
          "Abraham Lincoln High School",
          "William E. Grady Career and Technical Education High School",
          "Urban Action Academy",
          "Brooklyn Generation School",
          "High School for Medical Professions",
          "High School for Innovation in Advertising and Media",
          "Victory Collegiate High School",
          "Brooklyn Theatre Arts High School",
          "Academy for Conservation and the Environment",
          "All City Leadership Secondary School",
          "Bushwick School for Social Justice",
          "Academy for Environmental Leadership",
          "Academy of Urban Planning",
          "ACORN Community High School",
          "Flushing High School",
          "East-West School of International Studies",
          "Flushing International High School",
          "World Journalism Preparatory (College Board)",
          "Bayside High School",
          "Benjamin N. Cardozo High School",
          "Francis Lewis High School",
          "Queens School of Inquiry",
          "Robert F. Kennedy Community High School",
          "John Bowne High School",
          "Townsend Harris High School",
          "High School for Arts and Business",
          "Civic Leadership Academy",
          "Maspeth High School",
          "Pan American International High School",
          "Newtown High School",
          "Forest Hills High School",
          "Queens Metropolitan High School",
          "Grover Cleveland High School",
          "Humanities and Arts Magnet High School",
          "Mathematics, Science Research, and Technology Magnet High School",
          "Pathways College Preparatory School (College Board)",
          "Excelsior Preparatory High School",
          "Preparatory Academy for Writers (College Board)",
          "Queens Preparatory Academy",
          "George Washington Carver High School for the Sciences",
          "High School for Construction Trades, Engineering, and Architecture",
          "John Adams High School",
          "Robert H. Goddard High School of Communication Arts and Technology",
          "Richmond Hill High School",
          "Cambria Heights Academy",
          "Queens High School of Teaching, Liberal Arts, and the Sciences",
          "Martin Van Buren High School",
          "Queens Gateway to Health Sciences Secondary School",
          "Jamaica Gateway to the Sciences",
          "High School for Community Leadership",
          "Young Women's Leadership School in Queens",
          "Queens Collegiate (College Board)",
          "Hillcrest High School",
          "Thomas A. Edison Career and Technical Education High School",
          "Hillside Arts and Letters Academy",
          "York Early College Academy",
          "Queens High School for the Sciences at York College",
          "High School for Law Enforcement and Public Safety",
          "August Martin High School",
          "Frederick Douglass Academy VI High School",
          "Academy of Medical Technology (College Board)",
          "Queens High School for Information, Research, and Technology",
          "Rockaway Park High School for Environmental Sustainability",
          "Channel View School for Research",
          "Rockaway Collegiate High School",
          "Scholars' Academy"
         ],
         "lat": [
          40.71873,
          40.71687,
          40.71687,
          40.71687,
          40.71376,
          40.71896,
          40.71687,
          40.72057,
          40.71233,
          40.71687,
          40.71641,
          40.73249,
          40.73552,
          40.73552,
          40.73249,
          40.73552,
          40.69079,
          40.70523,
          40.70492,
          40.70523,
          40.70922,
          40.70915,
          40.72978,
          40.74405,
          40.7386,
          40.73895,
          40.74149,
          40.7421,
          40.74289,
          40.74289,
          40.74289,
          40.74511,
          40.7421,
          40.72435,
          40.72435,
          40.74611,
          40.74611,
          40.76336,
          40.76503,
          40.76503,
          40.76503,
          40.76776,
          40.7654,
          40.76503,
          40.76336,
          40.76503,
          40.77012,
          40.7743,
          40.7743,
          40.77216,
          40.77367,
          40.7743,
          40.7743,
          40.7743,
          40.78574,
          40.78574,
          40.78574,
          40.80217,
          40.80217,
          40.81092,
          40.81523,
          40.81523,
          40.79188,
          40.79368,
          40.79056,
          40.79271,
          40.79374,
          40.81736,
          40.81536,
          40.82112,
          40.81832,
          40.83803,
          40.83356,
          40.84888,
          40.79887,
          40.75594,
          40.76143,
          40.75776,
          40.71068,
          40.82431,
          40.85594,
          40.85594,
          40.85594,
          40.86111,
          40.85594,
          40.76545,
          40.76545,
          40.76545,
          40.78364,
          40.71775,
          40.64274,
          40.60745,
          40.64474,
          40.63384,
          40.56791,
          40.56918,
          40.52823,
          40.59865,
          40.58202,
          40.58202,
          40.81825,
          40.82278,
          40.82759,
          40.82278,
          40.82278,
          40.81336,
          40.81608,
          40.81608,
          40.81825,
          40.8491,
          40.81401,
          40.81004,
          40.81114,
          40.81496,
          40.81817,
          40.81817,
          40.8276,
          40.8276,
          40.82776,
          40.83374,
          40.82871,
          40.83374,
          40.82776,
          40.8276,
          40.8276,
          40.83417,
          40.83933,
          40.84037,
          40.83933,
          40.84127,
          40.84358,
          40.83933,
          40.84037,
          40.84519,
          40.84037,
          40.84037,
          40.85465,
          40.86001,
          40.86001,
          40.86001,
          40.86001,
          40.86001,
          40.86001,
          40.82523,
          40.81744,
          40.81744,
          40.82062,
          40.82523,
          40.83695,
          40.83594,
          40.83081,
          40.83594,
          40.84404,
          40.84181,
          40.84051,
          40.84051,
          40.85143,
          40.88005,
          40.87705,
          40.87705,
          40.87705,
          40.87705,
          40.87598,
          40.88837,
          40.88792,
          40.88792,
          40.88792,
          40.87575,
          40.87575,
          40.87575,
          40.87575,
          40.87575,
          40.87575,
          40.87038,
          40.87706,
          40.87038,
          40.87038,
          40.87038,
          40.87126,
          40.88008,
          40.87038,
          40.8597,
          40.8597,
          40.8597,
          40.8597,
          40.8597,
          40.83137,
          40.83136,
          40.83137,
          40.83136,
          40.83137,
          40.83137,
          40.8223,
          40.8223,
          40.81492,
          40.8223,
          40.8223,
          40.81492,
          40.82117,
          40.8223,
          40.87413,
          40.87413,
          40.74219,
          40.74509,
          40.74415,
          40.74114,
          40.74359,
          40.7513,
          40.75138,
          40.74509,
          40.74415,
          40.74792,
          40.74226,
          40.74509,
          40.77125,
          40.75812,
          40.76576,
          40.75653,
          40.75517,
          40.69717,
          40.69717,
          40.68545,
          40.68545,
          40.69494,
          40.69462,
          40.69462,
          40.68458,
          40.69494,
          40.69717,
          40.64866,
          40.64866,
          40.65952,
          40.64866,
          40.65952,
          40.65846,
          40.65952,
          40.63491,
          40.62026,
          40.69258,
          40.69634,
          40.69566,
          40.70358,
          40.7099,
          40.69706,
          40.7099,
          40.7099,
          40.66755,
          40.66755,
          40.67422,
          40.66755,
          40.66755,
          40.66064,
          40.69114,
          40.69114,
          40.67068,
          40.67823,
          40.69114,
          40.65752,
          40.69114,
          40.62791,
          40.63334,
          40.71196,
          40.71196,
          40.71504,
          40.70577,
          40.71196,
          40.71504,
          40.71504,
          40.66581,
          40.66581,
          40.6754,
          40.6754,
          40.67943,
          40.59359,
          40.60488,
          40.59359,
          40.59359,
          40.61342,
          40.59359,
          40.59359,
          40.6696,
          40.6696,
          40.6696,
          40.6696,
          40.68538,
          40.68365,
          40.68811,
          40.6492,
          40.63725,
          40.69448,
          40.68893,
          40.69154,
          40.69213,
          40.695,
          40.72264,
          40.72264,
          40.58924,
          40.58212,
          40.6703,
          40.6703,
          40.66716,
          40.67027,
          40.6703,
          40.6703,
          40.64944,
          40.64944,
          40.64944,
          40.64944,
          40.64944,
          40.60976,
          40.6205,
          40.67986,
          40.65595,
          40.67414,
          40.68046,
          40.58085,
          40.58231,
          40.58255,
          40.64184,
          40.63263,
          40.64184,
          40.64184,
          40.63263,
          40.63263,
          40.63263,
          40.69741,
          40.69696,
          40.69696,
          40.69696,
          40.67851,
          40.76524,
          40.7493,
          40.76041,
          40.76512,
          40.77187,
          40.75239,
          40.74056,
          40.72452,
          40.7256,
          40.7387,
          40.73441,
          40.73742,
          40.7433,
          40.72954,
          40.7433,
          40.74121,
          40.72943,
          40.71044,
          40.71122,
          40.69554,
          40.69554,
          40.70639,
          40.66823,
          40.66823,
          40.66823,
          40.66823,
          40.6894,
          40.67983,
          40.67177,
          40.69565,
          40.71182,
          40.7449,
          40.73282,
          40.71881,
          40.71358,
          40.71358,
          40.70821,
          40.71358,
          40.70876,
          40.71588,
          40.71358,
          40.69694,
          40.701,
          40.68618,
          40.67553,
          40.60199,
          40.60199,
          40.60199,
          40.58601,
          40.58601,
          40.58601,
          40.58413
         ],
         "legendgroup": "",
         "lon": [
          -73.97943,
          -73.98953,
          -73.98953,
          -73.98953,
          -73.98526,
          -73.97607,
          -73.98953,
          -73.98567,
          -73.9848,
          -73.98953,
          -73.99268,
          -73.98305,
          -73.9876,
          -73.9876,
          -73.98305,
          -73.9876,
          -74.01976,
          -74.01332,
          -74.01151,
          -74.01332,
          -74.01203,
          -74.01208,
          -73.98304,
          -73.99148,
          -73.98251,
          -73.98541,
          -73.99145,
          -74.00207,
          -74.00213,
          -74.00213,
          -74.00213,
          -73.99591,
          -74.00207,
          -74.00476,
          -74.00476,
          -73.98101,
          -73.98101,
          -73.99051,
          -73.99252,
          -73.99252,
          -73.99252,
          -73.98751,
          -73.98177,
          -73.99252,
          -73.99051,
          -73.99252,
          -73.95338,
          -73.98482,
          -73.98482,
          -73.9878,
          -73.98527,
          -73.98482,
          -73.98482,
          -73.98482,
          -73.97442,
          -73.97442,
          -73.97442,
          -73.95401,
          -73.95401,
          -73.95693,
          -73.9552,
          -73.9552,
          -73.94659,
          -73.94942,
          -73.94445,
          -73.9473,
          -73.93408,
          -73.94771,
          -73.9439,
          -73.94885,
          -73.95061,
          -73.93837,
          -73.9418,
          -73.93081,
          -73.93337,
          -73.98457,
          -73.98802,
          -73.98319,
          -74.00081,
          -73.93698,
          -73.92703,
          -73.92703,
          -73.92703,
          -73.93045,
          -73.92703,
          -73.96021,
          -73.96021,
          -73.96021,
          -73.94574,
          -74.01405,
          -74.07871,
          -74.10148,
          -74.08134,
          -74.14211,
          -74.11536,
          -74.1073,
          -74.19215,
          -74.1231,
          -74.15785,
          -74.15785,
          -73.91974,
          -73.92352,
          -73.91867,
          -73.92352,
          -73.92352,
          -73.92554,
          -73.93032,
          -73.93032,
          -73.91974,
          -73.91609,
          -73.92084,
          -73.91781,
          -73.90979,
          -73.91252,
          -73.91109,
          -73.91109,
          -73.90448,
          -73.90448,
          -73.90039,
          -73.90245,
          -73.91776,
          -73.90245,
          -73.90039,
          -73.90448,
          -73.90448,
          -73.90403,
          -73.90131,
          -73.91084,
          -73.90131,
          -73.89798,
          -73.90322,
          -73.90131,
          -73.91084,
          -73.89698,
          -73.91084,
          -73.91084,
          -73.89665,
          -73.88823,
          -73.88823,
          -73.88823,
          -73.88823,
          -73.88823,
          -73.88823,
          -73.89395,
          -73.89805,
          -73.89805,
          -73.89307,
          -73.89395,
          -73.88796,
          -73.89047,
          -73.88602,
          -73.89047,
          -73.88469,
          -73.87542,
          -73.83812,
          -73.83812,
          -73.86502,
          -73.90921,
          -73.91234,
          -73.91234,
          -73.91234,
          -73.91234,
          -73.90123,
          -73.91409,
          -73.85287,
          -73.85287,
          -73.85287,
          -73.86139,
          -73.86139,
          -73.86139,
          -73.86139,
          -73.86139,
          -73.86139,
          -73.89816,
          -73.88978,
          -73.89816,
          -73.89816,
          -73.89816,
          -73.89752,
          -73.8859,
          -73.89816,
          -73.86074,
          -73.86074,
          -73.86074,
          -73.86074,
          -73.86074,
          -73.87882,
          -73.87834,
          -73.87882,
          -73.87834,
          -73.87882,
          -73.87882,
          -73.85596,
          -73.85596,
          -73.85657,
          -73.85596,
          -73.85596,
          -73.85657,
          -73.88114,
          -73.85596,
          -73.8338,
          -73.8338,
          -73.92824,
          -73.93681,
          -73.93363,
          -73.94969,
          -73.92908,
          -73.93742,
          -73.93745,
          -73.93681,
          -73.93363,
          -73.94657,
          -73.93688,
          -73.93681,
          -73.9246,
          -73.91033,
          -73.93273,
          -73.92514,
          -73.92682,
          -73.98496,
          -73.98496,
          -73.99349,
          -73.99349,
          -73.98604,
          -73.98862,
          -73.98862,
          -73.99109,
          -73.98604,
          -73.98496,
          -73.9219,
          -73.9219,
          -73.94255,
          -73.9219,
          -73.94255,
          -73.92903,
          -73.94255,
          -73.98152,
          -73.98201,
          -73.95887,
          -73.97577,
          -73.96929,
          -73.95324,
          -73.94366,
          -73.94668,
          -73.94366,
          -73.94366,
          -73.8948,
          -73.8948,
          -73.89645,
          -73.8948,
          -73.8948,
          -73.88634,
          -73.86843,
          -73.86843,
          -73.87422,
          -73.87597,
          -73.86843,
          -73.87478,
          -73.86843,
          -74.03995,
          -73.95292,
          -73.94043,
          -73.94043,
          -73.95465,
          -73.95573,
          -73.94043,
          -73.95465,
          -73.95465,
          -73.9117,
          -73.9117,
          -73.93888,
          -73.93888,
          -73.93243,
          -73.98473,
          -73.99442,
          -73.98473,
          -73.98473,
          -74.00365,
          -73.98473,
          -73.98473,
          -73.97926,
          -73.97926,
          -73.97926,
          -73.97926,
          -73.95427,
          -73.98047,
          -73.97675,
          -73.97169,
          -74.02382,
          -73.92915,
          -73.92108,
          -73.93373,
          -73.9315,
          -73.92799,
          -73.95258,
          -73.95258,
          -73.98175,
          -73.97289,
          -73.96165,
          -73.96165,
          -73.95086,
          -73.96165,
          -73.96165,
          -73.96165,
          -73.95843,
          -73.95843,
          -73.95843,
          -73.95843,
          -73.95843,
          -73.94845,
          -73.95923,
          -74.00148,
          -74.0055,
          -73.91349,
          -73.9222,
          -73.93609,
          -73.96747,
          -73.96372,
          -73.89869,
          -73.9178,
          -73.89869,
          -73.89869,
          -73.9178,
          -73.9178,
          -73.9178,
          -73.91315,
          -73.91082,
          -73.91082,
          -73.91082,
          -73.96207,
          -73.82786,
          -73.82181,
          -73.81838,
          -73.79006,
          -73.78039,
          -73.75608,
          -73.79285,
          -73.80943,
          -73.81072,
          -73.82479,
          -73.82142,
          -73.85331,
          -73.87057,
          -73.88739,
          -73.87057,
          -73.87473,
          -73.84563,
          -73.85063,
          -73.90865,
          -73.73492,
          -73.73492,
          -73.75353,
          -73.75684,
          -73.75684,
          -73.75684,
          -73.75684,
          -73.84064,
          -73.83832,
          -73.84498,
          -73.83358,
          -73.77119,
          -73.72691,
          -73.73965,
          -73.8065,
          -73.79652,
          -73.79652,
          -73.80408,
          -73.79652,
          -73.80213,
          -73.79882,
          -73.79652,
          -73.78698,
          -73.79815,
          -73.78408,
          -73.78343,
          -73.76283,
          -73.76283,
          -73.76283,
          -73.82309,
          -73.82309,
          -73.82309,
          -73.82568
         ],
         "marker": {
          "color": [
           91,
           78.9,
           65.1,
           95.9,
           59.7,
           70.8,
           80.8,
           35.6,
           69.9,
           73.7,
           87.8,
           86.9,
           70.2,
           53.2,
           78.6,
           79.6,
           78.8,
           60,
           94,
           75,
           66.8,
           54.9,
           85.2,
           94.3,
           48.3,
           89.9,
           98.8,
           79.8,
           71.8,
           69.7,
           30.6,
           80.6,
           90,
           80.4,
           96,
           46.1,
           62.8,
           67.5,
           57.3,
           56.2,
           60.6,
           74,
           70.1,
           84.4,
           78.4,
           52,
           86,
           58.8,
           49.5,
           82.8,
           88.5,
           44.4,
           97.2,
           60.5,
           60,
           89.1,
           59.4,
           52.6,
           63.8,
           88.2,
           54,
           76.7,
           56.8,
           97.9,
           89.6,
           100,
           87.6,
           36.9,
           84.7,
           92.6,
           74,
           71,
           55.3,
           87,
           40.5,
           89.5,
           72.2,
           53.8,
           44.3,
           65.1,
           33,
           41.9,
           44.1,
           95.3,
           56.2,
           58.6,
           89.3,
           63.8,
           63,
           97.4,
           38,
           79.2,
           64.2,
           44.6,
           99.7,
           63.7,
           78.9,
           66.3,
           55.8,
           83.5,
           0.8,
           30.4,
           63.8,
           55.5,
           61.3,
           57.8,
           57.9,
           38.4,
           29.8,
           78.9,
           76.9,
           58.2,
           32.6,
           80,
           87.8,
           44.9,
           31.3,
           59.1,
           40.7,
           73.9,
           93.3,
           78.2,
           81,
           38.4,
           44.8,
           50.5,
           87.8,
           45.5,
           46.2,
           23.5,
           49.1,
           59.2,
           83.9,
           65.7,
           33.3,
           51.1,
           77.7,
           57.3,
           64.8,
           55.3,
           56.2,
           66.7,
           44.3,
           65.9,
           59,
           25.7,
           71.6,
           27.1,
           41.1,
           76.5,
           75,
           43,
           71.1,
           49.2,
           52.3,
           28.9,
           32.5,
           85.9,
           48.3,
           59.6,
           66.7,
           92.9,
           68.6,
           69.4,
           93,
           43.3,
           63.4,
           41,
           50.5,
           59.4,
           65.6,
           77.4,
           38.1,
           46.5,
           97,
           50.7,
           39.9,
           75.6,
           91.8,
           31.8,
           19.2,
           57.9,
           77,
           72.7,
           79.8,
           72.5,
           65.6,
           88.3,
           46.8,
           77.5,
           52,
           38.2,
           39.2,
           41.3,
           51.2,
           1.2,
           44.2,
           45.2,
           31.3,
           44.9,
           87.1,
           41.5,
           53.4,
           70.9,
           48.7,
           95,
           78.6,
           84.8,
           47.1,
           94.1,
           71.7,
           58.8,
           71.1,
           92.7,
           100,
           56.9,
           51.6,
           89.5,
           98.5,
           65.9,
           92.7,
           65.1,
           61.8,
           18.5,
           82.4,
           87.6,
           55.3,
           45.3,
           55.1,
           57.3,
           72.6,
           60.8,
           62.2,
           95.4,
           64.2,
           53.5,
           83.6,
           54,
           51.7,
           55.1,
           85.5,
           56.3,
           97.5,
           18.9,
           41.1,
           56.3,
           40.9,
           47.7,
           38.5,
           26.4,
           39.8,
           66.7,
           46.8,
           28.6,
           52.8,
           37.2,
           53.8,
           81.2,
           57.4,
           68.7,
           85.7,
           44.9,
           54.5,
           74.5,
           62.5,
           34.8,
           87.8,
           60.1,
           65.4,
           56.6,
           69.4,
           48.1,
           35.6,
           56.2,
           67.8,
           84.3,
           75,
           63.2,
           70.2,
           65.8,
           58.8,
           79.6,
           59.6,
           74.7,
           96.2,
           80.6,
           95.5,
           98.1,
           81.6,
           50,
           62.7,
           45.9,
           42.9,
           46.8,
           31.6,
           46.3,
           62.7,
           68.4,
           72.2,
           58.5,
           89,
           55,
           81.7,
           61.9,
           91.5,
           57.3,
           63.2,
           45.5,
           62,
           69,
           75.2,
           84.1,
           61.6,
           64.4,
           50.7,
           94,
           54.9,
           31.4,
           44.9,
           50,
           60.2,
           59.1,
           72.7,
           69.1,
           50.8,
           85,
           50,
           71.3,
           41.9,
           61.3,
           46.1,
           89.4,
           67.7,
           89.2,
           76.7,
           75.6,
           80.7,
           88.2,
           67.3,
           62.1,
           97.1,
           76.7,
           68.9,
           90,
           31.9,
           39.1,
           72.8,
           76.4,
           38.9,
           60.2,
           54.9,
           72.4,
           70.1,
           69.5,
           83.7,
           63.5,
           78.9,
           38.4,
           85.1,
           37.9,
           58.5,
           72.4,
           40,
           92.5,
           78.6,
           72.3,
           90.4,
           74.8,
           51.8,
           80,
           62.6,
           92.9,
           97.9,
           56.6,
           26.3,
           30.1,
           67.6,
           44.6,
           38.5,
           76.6,
           46.5,
           99.2
          ],
          "coloraxis": "coloraxis"
         },
         "mode": "markers",
         "name": "",
         "showlegend": false,
         "subplot": "mapbox",
         "type": "scattermapbox"
        }
       ],
       "layout": {
        "coloraxis": {
         "colorbar": {
          "title": {
           "text": "Percent_Tested"
          }
         },
         "colorscale": [
          [
           0,
           "rgb(165,0,38)"
          ],
          [
           0.1,
           "rgb(215,48,39)"
          ],
          [
           0.2,
           "rgb(244,109,67)"
          ],
          [
           0.3,
           "rgb(253,174,97)"
          ],
          [
           0.4,
           "rgb(254,224,139)"
          ],
          [
           0.5,
           "rgb(255,255,191)"
          ],
          [
           0.6,
           "rgb(217,239,139)"
          ],
          [
           0.7,
           "rgb(166,217,106)"
          ],
          [
           0.8,
           "rgb(102,189,99)"
          ],
          [
           0.9,
           "rgb(26,152,80)"
          ],
          [
           1,
           "rgb(0,104,55)"
          ]
         ]
        },
        "height": 1000,
        "legend": {
         "tracegroupgap": 0
        },
        "mapbox": {
         "center": {
          "lat": 40.743298848167534,
          "lon": -73.92317172774868
         },
         "domain": {
          "x": [
           0,
           1
          ],
          "y": [
           0,
           1
          ]
         },
         "style": "carto-positron",
         "zoom": 4
        },
        "template": {
         "data": {
          "bar": [
           {
            "error_x": {
             "color": "#2a3f5f"
            },
            "error_y": {
             "color": "#2a3f5f"
            },
            "marker": {
             "line": {
              "color": "#E5ECF6",
              "width": 0.5
             },
             "pattern": {
              "fillmode": "overlay",
              "size": 10,
              "solidity": 0.2
             }
            },
            "type": "bar"
           }
          ],
          "barpolar": [
           {
            "marker": {
             "line": {
              "color": "#E5ECF6",
              "width": 0.5
             },
             "pattern": {
              "fillmode": "overlay",
              "size": 10,
              "solidity": 0.2
             }
            },
            "type": "barpolar"
           }
          ],
          "carpet": [
           {
            "aaxis": {
             "endlinecolor": "#2a3f5f",
             "gridcolor": "white",
             "linecolor": "white",
             "minorgridcolor": "white",
             "startlinecolor": "#2a3f5f"
            },
            "baxis": {
             "endlinecolor": "#2a3f5f",
             "gridcolor": "white",
             "linecolor": "white",
             "minorgridcolor": "white",
             "startlinecolor": "#2a3f5f"
            },
            "type": "carpet"
           }
          ],
          "choropleth": [
           {
            "colorbar": {
             "outlinewidth": 0,
             "ticks": ""
            },
            "type": "choropleth"
           }
          ],
          "contour": [
           {
            "colorbar": {
             "outlinewidth": 0,
             "ticks": ""
            },
            "colorscale": [
             [
              0,
              "#0d0887"
             ],
             [
              0.1111111111111111,
              "#46039f"
             ],
             [
              0.2222222222222222,
              "#7201a8"
             ],
             [
              0.3333333333333333,
              "#9c179e"
             ],
             [
              0.4444444444444444,
              "#bd3786"
             ],
             [
              0.5555555555555556,
              "#d8576b"
             ],
             [
              0.6666666666666666,
              "#ed7953"
             ],
             [
              0.7777777777777778,
              "#fb9f3a"
             ],
             [
              0.8888888888888888,
              "#fdca26"
             ],
             [
              1,
              "#f0f921"
             ]
            ],
            "type": "contour"
           }
          ],
          "contourcarpet": [
           {
            "colorbar": {
             "outlinewidth": 0,
             "ticks": ""
            },
            "type": "contourcarpet"
           }
          ],
          "heatmap": [
           {
            "colorbar": {
             "outlinewidth": 0,
             "ticks": ""
            },
            "colorscale": [
             [
              0,
              "#0d0887"
             ],
             [
              0.1111111111111111,
              "#46039f"
             ],
             [
              0.2222222222222222,
              "#7201a8"
             ],
             [
              0.3333333333333333,
              "#9c179e"
             ],
             [
              0.4444444444444444,
              "#bd3786"
             ],
             [
              0.5555555555555556,
              "#d8576b"
             ],
             [
              0.6666666666666666,
              "#ed7953"
             ],
             [
              0.7777777777777778,
              "#fb9f3a"
             ],
             [
              0.8888888888888888,
              "#fdca26"
             ],
             [
              1,
              "#f0f921"
             ]
            ],
            "type": "heatmap"
           }
          ],
          "heatmapgl": [
           {
            "colorbar": {
             "outlinewidth": 0,
             "ticks": ""
            },
            "colorscale": [
             [
              0,
              "#0d0887"
             ],
             [
              0.1111111111111111,
              "#46039f"
             ],
             [
              0.2222222222222222,
              "#7201a8"
             ],
             [
              0.3333333333333333,
              "#9c179e"
             ],
             [
              0.4444444444444444,
              "#bd3786"
             ],
             [
              0.5555555555555556,
              "#d8576b"
             ],
             [
              0.6666666666666666,
              "#ed7953"
             ],
             [
              0.7777777777777778,
              "#fb9f3a"
             ],
             [
              0.8888888888888888,
              "#fdca26"
             ],
             [
              1,
              "#f0f921"
             ]
            ],
            "type": "heatmapgl"
           }
          ],
          "histogram": [
           {
            "marker": {
             "pattern": {
              "fillmode": "overlay",
              "size": 10,
              "solidity": 0.2
             }
            },
            "type": "histogram"
           }
          ],
          "histogram2d": [
           {
            "colorbar": {
             "outlinewidth": 0,
             "ticks": ""
            },
            "colorscale": [
             [
              0,
              "#0d0887"
             ],
             [
              0.1111111111111111,
              "#46039f"
             ],
             [
              0.2222222222222222,
              "#7201a8"
             ],
             [
              0.3333333333333333,
              "#9c179e"
             ],
             [
              0.4444444444444444,
              "#bd3786"
             ],
             [
              0.5555555555555556,
              "#d8576b"
             ],
             [
              0.6666666666666666,
              "#ed7953"
             ],
             [
              0.7777777777777778,
              "#fb9f3a"
             ],
             [
              0.8888888888888888,
              "#fdca26"
             ],
             [
              1,
              "#f0f921"
             ]
            ],
            "type": "histogram2d"
           }
          ],
          "histogram2dcontour": [
           {
            "colorbar": {
             "outlinewidth": 0,
             "ticks": ""
            },
            "colorscale": [
             [
              0,
              "#0d0887"
             ],
             [
              0.1111111111111111,
              "#46039f"
             ],
             [
              0.2222222222222222,
              "#7201a8"
             ],
             [
              0.3333333333333333,
              "#9c179e"
             ],
             [
              0.4444444444444444,
              "#bd3786"
             ],
             [
              0.5555555555555556,
              "#d8576b"
             ],
             [
              0.6666666666666666,
              "#ed7953"
             ],
             [
              0.7777777777777778,
              "#fb9f3a"
             ],
             [
              0.8888888888888888,
              "#fdca26"
             ],
             [
              1,
              "#f0f921"
             ]
            ],
            "type": "histogram2dcontour"
           }
          ],
          "mesh3d": [
           {
            "colorbar": {
             "outlinewidth": 0,
             "ticks": ""
            },
            "type": "mesh3d"
           }
          ],
          "parcoords": [
           {
            "line": {
             "colorbar": {
              "outlinewidth": 0,
              "ticks": ""
             }
            },
            "type": "parcoords"
           }
          ],
          "pie": [
           {
            "automargin": true,
            "type": "pie"
           }
          ],
          "scatter": [
           {
            "fillpattern": {
             "fillmode": "overlay",
             "size": 10,
             "solidity": 0.2
            },
            "type": "scatter"
           }
          ],
          "scatter3d": [
           {
            "line": {
             "colorbar": {
              "outlinewidth": 0,
              "ticks": ""
             }
            },
            "marker": {
             "colorbar": {
              "outlinewidth": 0,
              "ticks": ""
             }
            },
            "type": "scatter3d"
           }
          ],
          "scattercarpet": [
           {
            "marker": {
             "colorbar": {
              "outlinewidth": 0,
              "ticks": ""
             }
            },
            "type": "scattercarpet"
           }
          ],
          "scattergeo": [
           {
            "marker": {
             "colorbar": {
              "outlinewidth": 0,
              "ticks": ""
             }
            },
            "type": "scattergeo"
           }
          ],
          "scattergl": [
           {
            "marker": {
             "colorbar": {
              "outlinewidth": 0,
              "ticks": ""
             }
            },
            "type": "scattergl"
           }
          ],
          "scattermapbox": [
           {
            "marker": {
             "colorbar": {
              "outlinewidth": 0,
              "ticks": ""
             }
            },
            "type": "scattermapbox"
           }
          ],
          "scatterpolar": [
           {
            "marker": {
             "colorbar": {
              "outlinewidth": 0,
              "ticks": ""
             }
            },
            "type": "scatterpolar"
           }
          ],
          "scatterpolargl": [
           {
            "marker": {
             "colorbar": {
              "outlinewidth": 0,
              "ticks": ""
             }
            },
            "type": "scatterpolargl"
           }
          ],
          "scatterternary": [
           {
            "marker": {
             "colorbar": {
              "outlinewidth": 0,
              "ticks": ""
             }
            },
            "type": "scatterternary"
           }
          ],
          "surface": [
           {
            "colorbar": {
             "outlinewidth": 0,
             "ticks": ""
            },
            "colorscale": [
             [
              0,
              "#0d0887"
             ],
             [
              0.1111111111111111,
              "#46039f"
             ],
             [
              0.2222222222222222,
              "#7201a8"
             ],
             [
              0.3333333333333333,
              "#9c179e"
             ],
             [
              0.4444444444444444,
              "#bd3786"
             ],
             [
              0.5555555555555556,
              "#d8576b"
             ],
             [
              0.6666666666666666,
              "#ed7953"
             ],
             [
              0.7777777777777778,
              "#fb9f3a"
             ],
             [
              0.8888888888888888,
              "#fdca26"
             ],
             [
              1,
              "#f0f921"
             ]
            ],
            "type": "surface"
           }
          ],
          "table": [
           {
            "cells": {
             "fill": {
              "color": "#EBF0F8"
             },
             "line": {
              "color": "white"
             }
            },
            "header": {
             "fill": {
              "color": "#C8D4E3"
             },
             "line": {
              "color": "white"
             }
            },
            "type": "table"
           }
          ]
         },
         "layout": {
          "annotationdefaults": {
           "arrowcolor": "#2a3f5f",
           "arrowhead": 0,
           "arrowwidth": 1
          },
          "autotypenumbers": "strict",
          "coloraxis": {
           "colorbar": {
            "outlinewidth": 0,
            "ticks": ""
           }
          },
          "colorscale": {
           "diverging": [
            [
             0,
             "#8e0152"
            ],
            [
             0.1,
             "#c51b7d"
            ],
            [
             0.2,
             "#de77ae"
            ],
            [
             0.3,
             "#f1b6da"
            ],
            [
             0.4,
             "#fde0ef"
            ],
            [
             0.5,
             "#f7f7f7"
            ],
            [
             0.6,
             "#e6f5d0"
            ],
            [
             0.7,
             "#b8e186"
            ],
            [
             0.8,
             "#7fbc41"
            ],
            [
             0.9,
             "#4d9221"
            ],
            [
             1,
             "#276419"
            ]
           ],
           "sequential": [
            [
             0,
             "#0d0887"
            ],
            [
             0.1111111111111111,
             "#46039f"
            ],
            [
             0.2222222222222222,
             "#7201a8"
            ],
            [
             0.3333333333333333,
             "#9c179e"
            ],
            [
             0.4444444444444444,
             "#bd3786"
            ],
            [
             0.5555555555555556,
             "#d8576b"
            ],
            [
             0.6666666666666666,
             "#ed7953"
            ],
            [
             0.7777777777777778,
             "#fb9f3a"
            ],
            [
             0.8888888888888888,
             "#fdca26"
            ],
            [
             1,
             "#f0f921"
            ]
           ],
           "sequentialminus": [
            [
             0,
             "#0d0887"
            ],
            [
             0.1111111111111111,
             "#46039f"
            ],
            [
             0.2222222222222222,
             "#7201a8"
            ],
            [
             0.3333333333333333,
             "#9c179e"
            ],
            [
             0.4444444444444444,
             "#bd3786"
            ],
            [
             0.5555555555555556,
             "#d8576b"
            ],
            [
             0.6666666666666666,
             "#ed7953"
            ],
            [
             0.7777777777777778,
             "#fb9f3a"
            ],
            [
             0.8888888888888888,
             "#fdca26"
            ],
            [
             1,
             "#f0f921"
            ]
           ]
          },
          "colorway": [
           "#636efa",
           "#EF553B",
           "#00cc96",
           "#ab63fa",
           "#FFA15A",
           "#19d3f3",
           "#FF6692",
           "#B6E880",
           "#FF97FF",
           "#FECB52"
          ],
          "font": {
           "color": "#2a3f5f"
          },
          "geo": {
           "bgcolor": "white",
           "lakecolor": "white",
           "landcolor": "#E5ECF6",
           "showlakes": true,
           "showland": true,
           "subunitcolor": "white"
          },
          "hoverlabel": {
           "align": "left"
          },
          "hovermode": "closest",
          "mapbox": {
           "style": "light"
          },
          "paper_bgcolor": "white",
          "plot_bgcolor": "#E5ECF6",
          "polar": {
           "angularaxis": {
            "gridcolor": "white",
            "linecolor": "white",
            "ticks": ""
           },
           "bgcolor": "#E5ECF6",
           "radialaxis": {
            "gridcolor": "white",
            "linecolor": "white",
            "ticks": ""
           }
          },
          "scene": {
           "xaxis": {
            "backgroundcolor": "#E5ECF6",
            "gridcolor": "white",
            "gridwidth": 2,
            "linecolor": "white",
            "showbackground": true,
            "ticks": "",
            "zerolinecolor": "white"
           },
           "yaxis": {
            "backgroundcolor": "#E5ECF6",
            "gridcolor": "white",
            "gridwidth": 2,
            "linecolor": "white",
            "showbackground": true,
            "ticks": "",
            "zerolinecolor": "white"
           },
           "zaxis": {
            "backgroundcolor": "#E5ECF6",
            "gridcolor": "white",
            "gridwidth": 2,
            "linecolor": "white",
            "showbackground": true,
            "ticks": "",
            "zerolinecolor": "white"
           }
          },
          "shapedefaults": {
           "line": {
            "color": "#2a3f5f"
           }
          },
          "ternary": {
           "aaxis": {
            "gridcolor": "white",
            "linecolor": "white",
            "ticks": ""
           },
           "baxis": {
            "gridcolor": "white",
            "linecolor": "white",
            "ticks": ""
           },
           "bgcolor": "#E5ECF6",
           "caxis": {
            "gridcolor": "white",
            "linecolor": "white",
            "ticks": ""
           }
          },
          "title": {
           "x": 0.05
          },
          "xaxis": {
           "automargin": true,
           "gridcolor": "white",
           "linecolor": "white",
           "ticks": "",
           "title": {
            "standoff": 15
           },
           "zerolinecolor": "white",
           "zerolinewidth": 2
          },
          "yaxis": {
           "automargin": true,
           "gridcolor": "white",
           "linecolor": "white",
           "ticks": "",
           "title": {
            "standoff": 15
           },
           "zerolinecolor": "white",
           "zerolinewidth": 2
          }
         }
        },
        "title": {
         "text": "Schools Colored by Percent Tested"
        },
        "width": 1000
       }
      },
      "image/png": "[encoded data removed]",
      "text/html": [
       "<div>                            <div id=\"474571fd-9aa9-4e8e-823e-d813a6916862\" class=\"plotly-graph-div\" style=\"height:1000px; width:1000px;\"></div>            <script type=\"text/javascript\">                require([\"plotly\"], function(Plotly) {                    window.PLOTLYENV=window.PLOTLYENV || {};                                    if (document.getElementById(\"474571fd-9aa9-4e8e-823e-d813a6916862\")) {                    Plotly.newPlot(                        \"474571fd-9aa9-4e8e-823e-d813a6916862\",                        [{\"hovertemplate\":\"\\u003cb\\u003e%{hovertext}\\u003c\\u002fb\\u003e\\u003cbr\\u003e\\u003cbr\\u003eLatitude=%{lat}\\u003cbr\\u003eLongitude=%{lon}\\u003cbr\\u003ePercent_Tested=%{marker.color}\\u003cextra\\u003e\\u003c\\u002fextra\\u003e\",\"hovertext\":[\"New Explorations into Science, Technology and Math High School\",\"Essex Street Academy\",\"Lower Manhattan Arts Academy\",\"High School for Dual Language and Asian Studies\",\"Henry Street School for International Studies\",\"Bard High School Early College\",\"Urban Assembly Academy of Government and Law\",\"Marta Valle High School\",\"University Neighborhood High School\",\"New Design High School\",\"Pace High School\",\"High School for Health Professions and Human Services\",\"High School for Language and Diplomacy\",\"International High School at Union Square\",\"Institute for Collaborative Education\",\"Gramercy Arts High School\",\"Urban Assembly New York Harbor School\",\"Richard R. Green High School of Teaching\",\"Millennium High School\",\"Urban Assembly School of Business for Young Women\",\"High School of Economics and Finance\",\"Leadership and Public Service High School\",\"East Side Community School\",\"Baruch College Campus High School\",\"47 American Sign Language and English Secondary School\",\"School of the Future High School\",\"Manhattan Village Academy\",\"NYC Lab School for Collaborative Studies\",\"Hudson High School of Learning Technologies\",\"Manhattan Business Academy\",\"Landmark High School\",\"High School of Fashion Industries\",\"NYC Museum School\",\"Chelsea Career and Technical Education High School\",\"NYC iSchool\",\"Manhattan Academy for Arts and Language\",\"Unity Center for Urban Technologies\",\"Business of Sports School\",\"Facing History School\",\"High School of Hospitality Management\",\"Urban Assembly School of Design and Construction\",\"High School for Environmental Studies\",\"Art and Design High School\",\"Manhattan Bridges High School\",\"Urban Assembly Gateway School for Technology\",\"Food and Finance High School\",\"Eleanor Roosevelt High School\",\"High School for Arts, Imagination, and Inquiry\",\"Urban Assembly School for Media Studies\",\"Beacon High School\",\"Fiorello H. LaGuardia High School of Music and Art and Performing Arts\",\"High School of Arts and Technology\",\"Manhattan \\u002f Hunter Science High School\",\"High School for Law, Advocacy, and Community Justice\",\"Urban Assembly School for Green Careers\",\"Frank McCourt High School\",\"Global Learning Collaborative\",\"Wadleigh Secondary School for the Performing and Visual Arts\",\"Frederick Douglass Academy II Secondary School\",\"Columbia Secondary School\",\"Academy for Social Action (College Board)\",\"Urban Assembly School for the Performing Arts\",\"Heritage School\",\"Central Park East High School\",\"Park East High School\",\"Young Women's Leadership School\",\"Manhattan Center for Science and Mathematics\",\"Mott Hall High School\",\"Thurgood Marshall Academy for Learning and Social Change\",\"High School for Mathematics, Science, and Engineering at City College\",\"A. Philip Randolph Campus High School\",\"Gregorio Luperon High School for Science and Mathematics\",\"Community Health Academy of the Heights\",\"Washington Heights Expeditionary Learning School\",\"Coalition School for Social Change\",\"Repertory Company High School for Theatre Arts\",\"Professional Performing Arts High School\",\"Jacqueline Kennedy Onassis High School\",\"Murry Bergtraum High School for Business Careers\",\"Frederick Douglass Academy\",\"High School for Media and Communications\",\"College Academy\",\"High School for Law and Public Service\",\"City College Academy of the Arts\",\"High School for Health Careers and Sciences\",\"Manhattan International High School\",\"Talent Unlimited High School\",\"Vanguard High School\",\"Life Sciences Secondary School\",\"Stuyvesant High School\",\"Ralph R. McKee Career and Technical Education High School\",\"Michael J. Petrides School\",\"Curtis High School\",\"Port Richmond High School\",\"Staten Island Technical High School\",\"New Dorp High School\",\"Tottenville High School\",\"Susan E. Wagner High School\",\"Gaynor McCown Expeditionary Learning School\",\"CSI High School for International Studies\",\"Bronx Design and Construction Academy\",\"New Explorers High School\",\"Bronx School for Law, Government, and Justice\",\"Urban Assembly School for Careers in Sports\",\"Bronx Leadership Academy II High School\",\"Urban Assembly Bronx Academy of Letters\",\"Health Opportunities High School\",\"Community School for Social Justice\",\"Alfred E. Smith Career and Technical Education High School\",\"Academy for Language and Technology\",\"South Bronx Preparatory (College Board)\",\"International Community High School\",\"Foreign Language Academy of Global Studies\",\"Hostos-Lincoln Academy of Science\",\"University Heights Secondary School\",\"Mott Haven Village Preparatory High School\",\"High School for Violin and Dance\",\"Bronx International High School\",\"Bronx Career and College Preparatory High School\",\"Bronx Center for Science and Mathematics\",\"Bronx Early College Academy for Teaching and Learning\",\"Eximius College Preparatory Academy (College Board)\",\"Bronx Latin\",\"School for Excellence\",\"Morris Academy for Collaborative Studies\",\"Frederick Douglass Academy III Secondary School\",\"Urban Assembly School for Applied Math and Science\",\"Bronx Collegiate Academy\",\"Mott Hall Bronx High School\",\"Leadership Institute\",\"Bronx Leadership Academy High School\",\"Validus Preparatory Academy: An Expeditionary Learning School\",\"Bronx High School for Medical Science\",\"Eagle Academy for Young Men\",\"Bronx High School of Business\",\"DreamYard Preparatory School\",\"Theatre Arts Production Company School\",\"West Bronx Academy for the Future\",\"Bronx High School for Law and Community Service\",\"Belmont Preparatory High School\",\"Fordham High School for the Arts\",\"Knowledge and Power Preparatory Academy International High School (KAPPA)\",\"Fordham Leadership Academy for Business and Technology\",\"Metropolitan High School\",\"Holcombe L. Rucker School of Community Research\",\"Banana Kelly High School\",\"Bronx Studio School for Writers and Artists\",\"Peace and Diversity Academy\",\"East Bronx Academy for the Future\",\"Bronx Envision Academy\",\"Fannie Lou Hamer Freedom High School\",\"Explorations Academy\",\"Urban Assembly School for Wildlife Conservation\",\"Wings Academy\",\"Renaissance High School for Musical Theater and Technology\",\"Herbert H. Lehman High School\",\"Bronx High School for the Visual Arts\",\"In-Tech Academy\",\"Bronx School of Law and Finance\",\"Bronx Engineering and Technology Academy\",\"Bronx Theatre High School\",\"Marble Hill High School for International Studies\",\"Marie Curie School for Medicine, Nursing, and Health Professions\",\"Riverdale\\u002fKingsbridge Academy\",\"New World High School\",\"Bronxwood Preparatory Academy\",\"Academy for Scholarship and Entrepreneurship (College Board)\",\"High School for Contemporary Arts\",\"Bronx Aerospace High School\",\"Bronx Academy of Health Careers\",\"High School of Computers and Technology\",\"Bronx Lab School\",\"Bronx High School for Writing and Communication Arts\",\"High School for Teaching and the Professions\",\"Bronx High School of Science\",\"Kingsbridge International High School\",\"Discovery High School\",\"Celia Cruz Bronx High School of Music\",\"High School of American Studies at Lehman College\",\"DeWitt Clinton High School\",\"International School for Liberal Arts\",\"Astor Collegiate Academy\",\"Pelham Preparatory Academy\",\"High School of Language and Innovation\",\"Collegiate Institute for Math and Science\",\"Bronxdale High School\",\"Pan American International High School at Monroe\",\"Cinema School\",\"Monroe Academy for Visual Arts and Design\",\"Mott Hall V\",\"Metropolitan Soundview High School\",\"High School of World Cultures\",\"Millennium Art Academy\",\"Bronx Guild\",\"Archimedes Academy for Math, Science, and Technology Applications\",\"Bronx Bridges High School\",\"Pablo Neruda Academy\",\"Women's Academy of Excellence\",\"Felisa Rincon de Gautier Institute for Law and Public Policy\",\"Antonia Pantoja Preparatory Academy (College Board)\",\"Bronx Health Sciences High School\",\"Harry S. Truman High School\",\"Queens Vocational and Technical High School\",\"High School of Applied Communication\",\"Middle College High School at LaGuardia Community College\",\"Academy for Careers in Television and Film\",\"Aviation Career and Technical Education High School\",\"Academy of American Studies\",\"Newcomers High School\",\"Bard High School Early College Queens\",\"International High School at LaGuardia Community College\",\"Information Technology High School\",\"Robert F. Wagner Jr. Secondary School for Arts and Technology\",\"Academy of Finance and Enterprise\",\"Young Women's Leadership School in Astoria\",\"William Cullen Bryant High School\",\"Long Island City High School\",\"Frank Sinatra School of the Arts High School\",\"Baccalaureate School for Global Education\",\"Science Skills Center High School for Science, Technology, and the Creative Arts\",\"Brooklyn International High School\",\"School for International Studies\",\"Brooklyn School for Global Studies\",\"City Polytechnic High School of Engineering, Architecture, and Technology\",\"Urban Assembly Institute of Math and Science for Young Women\",\"Urban Assembly School for Law and Justice\",\"Cobble Hill School of American Studies\",\"George Westinghouse Career and Technical Education High School\",\"Urban Assembly High School of Music and Art\",\"Cultural Academy for the Arts and Sciences\",\"Kurt Hahn Expeditionary Learning School\",\"School for Human Rights\",\"It Takes a Village Academy\",\"High School for Public Service: Heroes of Tomorrow\",\"Arts and Media Preparatory Academy\",\"School for Democracy and Leadership\",\"Urban Assembly School for Criminal Justice\",\"Franklin Delano Roosevelt High School\",\"Brooklyn Community High School of Communication, Arts, and Media\",\"Dr. Susan S. McKinney Secondary School of the Arts\",\"Benjamin Banneker Academy\",\"Juan Morel Campos Secondary School\",\"Brooklyn Latin School\",\"Foundations Academy\",\"Green School: An Academy for Environmental Careers\",\"Lyons Community School\",\"World Academy for Total Community Health High School\",\"FDNY High School for Fire and Life Safety\",\"W. H. Maxwell Career and Technical Education High School\",\"High School for Civil Rights\",\"Performing Arts and Technology High School\",\"East New York Family Academy\",\"Brooklyn Lab School\",\"Multicultural High School\",\"School for Classics: An Academy of Thinkers, Writers, and Performers\",\"Transit Tech Career and Technical Education High School\",\"Cypress Hills Collegiate Preparatory School\",\"Academy for Young Writers\",\"Academy of Innovative Technology\",\"Fort Hamilton High School\",\"Midwood High School\",\"PROGRESS High School for Professional Careers\",\"High School for Enterprise, Business, and Technology\",\"Brooklyn Preparatory High School\",\"El Puente Academy for Peace and Justice\",\"School for Legal Studies\",\"Williamsburg Preparatory School\",\"Williamsburg High School for Architecture and Design\",\"Frederick Douglass Academy VII High School\",\"Teachers Preparatory High School\",\"Pathways in Technology Early College High School\",\"Academy for Health Careers\",\"Boys and Girls High School\",\"High School of Sports Management\",\"Brooklyn Studio Secondary School\",\"International High School at Lafayette\",\"Expeditionary Learning School for Community Leaders\",\"New Utrecht High School\",\"Life Academy High School for Film and Music\",\"Kingsborough Early College School\",\"Secondary School for Journalism\",\"Millennium Brooklyn High School\",\"Park Slope Collegiate\",\"Secondary School for Law\",\"Bedford Academy High School\",\"Brooklyn High School of the Arts\",\"Brooklyn Technical High School\",\"Brooklyn College Academy\",\"High School of Telecommunication Arts and Technology\",\"EBC High School for Public Service in Bushwick\",\"Brooklyn High School for Law and Technology\",\"Brooklyn Academy of Global Finance\",\"Frederick Douglass Academy IV Secondary School\",\"Bushwick Leaders High School for Academic Excellence\",\"Automotive High School\",\"Frances Perkins Academy\",\"John Dewey High School\",\"Rachel Carson High School for Coastal Studies\",\"Brooklyn School for Music and Theatre\",\"Brooklyn Academy of Science and the Environment\",\"Medgar Evers College Preparatory School\",\"Clara Barton High School\",\"International High School at Prospect Heights\",\"High School for Global Citizenship\",\"Science, Technology, and Research Early College High School at Erasmus\",\"Academy for College Preparation and Career Exploration (College Board)\",\"High School for Youth and Community Development at Erasmus\",\"High School for Service and Learning at Erasmus\",\"Academy of Hospitality and Tourism\",\"James Madison High School\",\"Edward R. Murrow High School\",\"Brooklyn Secondary School for Collaborative Studies\",\"Sunset Park High School\",\"Brooklyn Collegiate (College Board)\",\"Gotham Professional Arts Academy\",\"Leon M. Goldstein High School for the Sciences\",\"Abraham Lincoln High School\",\"William E. Grady Career and Technical Education High School\",\"Urban Action Academy\",\"Brooklyn Generation School\",\"High School for Medical Professions\",\"High School for Innovation in Advertising and Media\",\"Victory Collegiate High School\",\"Brooklyn Theatre Arts High School\",\"Academy for Conservation and the Environment\",\"All City Leadership Secondary School\",\"Bushwick School for Social Justice\",\"Academy for Environmental Leadership\",\"Academy of Urban Planning\",\"ACORN Community High School\",\"Flushing High School\",\"East-West School of International Studies\",\"Flushing International High School\",\"World Journalism Preparatory (College Board)\",\"Bayside High School\",\"Benjamin N. Cardozo High School\",\"Francis Lewis High School\",\"Queens School of Inquiry\",\"Robert F. Kennedy Community High School\",\"John Bowne High School\",\"Townsend Harris High School\",\"High School for Arts and Business\",\"Civic Leadership Academy\",\"Maspeth High School\",\"Pan American International High School\",\"Newtown High School\",\"Forest Hills High School\",\"Queens Metropolitan High School\",\"Grover Cleveland High School\",\"Humanities and Arts Magnet High School\",\"Mathematics, Science Research, and Technology Magnet High School\",\"Pathways College Preparatory School (College Board)\",\"Excelsior Preparatory High School\",\"Preparatory Academy for Writers (College Board)\",\"Queens Preparatory Academy\",\"George Washington Carver High School for the Sciences\",\"High School for Construction Trades, Engineering, and Architecture\",\"John Adams High School\",\"Robert H. Goddard High School of Communication Arts and Technology\",\"Richmond Hill High School\",\"Cambria Heights Academy\",\"Queens High School of Teaching, Liberal Arts, and the Sciences\",\"Martin Van Buren High School\",\"Queens Gateway to Health Sciences Secondary School\",\"Jamaica Gateway to the Sciences\",\"High School for Community Leadership\",\"Young Women's Leadership School in Queens\",\"Queens Collegiate (College Board)\",\"Hillcrest High School\",\"Thomas A. Edison Career and Technical Education High School\",\"Hillside Arts and Letters Academy\",\"York Early College Academy\",\"Queens High School for the Sciences at York College\",\"High School for Law Enforcement and Public Safety\",\"August Martin High School\",\"Frederick Douglass Academy VI High School\",\"Academy of Medical Technology (College Board)\",\"Queens High School for Information, Research, and Technology\",\"Rockaway Park High School for Environmental Sustainability\",\"Channel View School for Research\",\"Rockaway Collegiate High School\",\"Scholars' Academy\"],\"lat\":[40.71873,40.71687,40.71687,40.71687,40.71376,40.71896,40.71687,40.72057,40.71233,40.71687,40.71641,40.73249,40.73552,40.73552,40.73249,40.73552,40.69079,40.70523,40.70492,40.70523,40.70922,40.70915,40.72978,40.74405,40.7386,40.73895,40.74149,40.7421,40.74289,40.74289,40.74289,40.74511,40.7421,40.72435,40.72435,40.74611,40.74611,40.76336,40.76503,40.76503,40.76503,40.76776,40.7654,40.76503,40.76336,40.76503,40.77012,40.7743,40.7743,40.77216,40.77367,40.7743,40.7743,40.7743,40.78574,40.78574,40.78574,40.80217,40.80217,40.81092,40.81523,40.81523,40.79188,40.79368,40.79056,40.79271,40.79374,40.81736,40.81536,40.82112,40.81832,40.83803,40.83356,40.84888,40.79887,40.75594,40.76143,40.75776,40.71068,40.82431,40.85594,40.85594,40.85594,40.86111,40.85594,40.76545,40.76545,40.76545,40.78364,40.71775,40.64274,40.60745,40.64474,40.63384,40.56791,40.56918,40.52823,40.59865,40.58202,40.58202,40.81825,40.82278,40.82759,40.82278,40.82278,40.81336,40.81608,40.81608,40.81825,40.8491,40.81401,40.81004,40.81114,40.81496,40.81817,40.81817,40.8276,40.8276,40.82776,40.83374,40.82871,40.83374,40.82776,40.8276,40.8276,40.83417,40.83933,40.84037,40.83933,40.84127,40.84358,40.83933,40.84037,40.84519,40.84037,40.84037,40.85465,40.86001,40.86001,40.86001,40.86001,40.86001,40.86001,40.82523,40.81744,40.81744,40.82062,40.82523,40.83695,40.83594,40.83081,40.83594,40.84404,40.84181,40.84051,40.84051,40.85143,40.88005,40.87705,40.87705,40.87705,40.87705,40.87598,40.88837,40.88792,40.88792,40.88792,40.87575,40.87575,40.87575,40.87575,40.87575,40.87575,40.87038,40.87706,40.87038,40.87038,40.87038,40.87126,40.88008,40.87038,40.8597,40.8597,40.8597,40.8597,40.8597,40.83137,40.83136,40.83137,40.83136,40.83137,40.83137,40.8223,40.8223,40.81492,40.8223,40.8223,40.81492,40.82117,40.8223,40.87413,40.87413,40.74219,40.74509,40.74415,40.74114,40.74359,40.7513,40.75138,40.74509,40.74415,40.74792,40.74226,40.74509,40.77125,40.75812,40.76576,40.75653,40.75517,40.69717,40.69717,40.68545,40.68545,40.69494,40.69462,40.69462,40.68458,40.69494,40.69717,40.64866,40.64866,40.65952,40.64866,40.65952,40.65846,40.65952,40.63491,40.62026,40.69258,40.69634,40.69566,40.70358,40.7099,40.69706,40.7099,40.7099,40.66755,40.66755,40.67422,40.66755,40.66755,40.66064,40.69114,40.69114,40.67068,40.67823,40.69114,40.65752,40.69114,40.62791,40.63334,40.71196,40.71196,40.71504,40.70577,40.71196,40.71504,40.71504,40.66581,40.66581,40.6754,40.6754,40.67943,40.59359,40.60488,40.59359,40.59359,40.61342,40.59359,40.59359,40.6696,40.6696,40.6696,40.6696,40.68538,40.68365,40.68811,40.6492,40.63725,40.69448,40.68893,40.69154,40.69213,40.695,40.72264,40.72264,40.58924,40.58212,40.6703,40.6703,40.66716,40.67027,40.6703,40.6703,40.64944,40.64944,40.64944,40.64944,40.64944,40.60976,40.6205,40.67986,40.65595,40.67414,40.68046,40.58085,40.58231,40.58255,40.64184,40.63263,40.64184,40.64184,40.63263,40.63263,40.63263,40.69741,40.69696,40.69696,40.69696,40.67851,40.76524,40.7493,40.76041,40.76512,40.77187,40.75239,40.74056,40.72452,40.7256,40.7387,40.73441,40.73742,40.7433,40.72954,40.7433,40.74121,40.72943,40.71044,40.71122,40.69554,40.69554,40.70639,40.66823,40.66823,40.66823,40.66823,40.6894,40.67983,40.67177,40.69565,40.71182,40.7449,40.73282,40.71881,40.71358,40.71358,40.70821,40.71358,40.70876,40.71588,40.71358,40.69694,40.701,40.68618,40.67553,40.60199,40.60199,40.60199,40.58601,40.58601,40.58601,40.58413],\"legendgroup\":\"\",\"lon\":[-73.97943,-73.98953,-73.98953,-73.98953,-73.98526,-73.97607,-73.98953,-73.98567,-73.9848,-73.98953,-73.99268,-73.98305,-73.9876,-73.9876,-73.98305,-73.9876,-74.01976,-74.01332,-74.01151,-74.01332,-74.01203,-74.01208,-73.98304,-73.99148,-73.98251,-73.98541,-73.99145,-74.00207,-74.00213,-74.00213,-74.00213,-73.99591,-74.00207,-74.00476,-74.00476,-73.98101,-73.98101,-73.99051,-73.99252,-73.99252,-73.99252,-73.98751,-73.98177,-73.99252,-73.99051,-73.99252,-73.95338,-73.98482,-73.98482,-73.9878,-73.98527,-73.98482,-73.98482,-73.98482,-73.97442,-73.97442,-73.97442,-73.95401,-73.95401,-73.95693,-73.9552,-73.9552,-73.94659,-73.94942,-73.94445,-73.9473,-73.93408,-73.94771,-73.9439,-73.94885,-73.95061,-73.93837,-73.9418,-73.93081,-73.93337,-73.98457,-73.98802,-73.98319,-74.00081,-73.93698,-73.92703,-73.92703,-73.92703,-73.93045,-73.92703,-73.96021,-73.96021,-73.96021,-73.94574,-74.01405,-74.07871,-74.10148,-74.08134,-74.14211,-74.11536,-74.1073,-74.19215,-74.1231,-74.15785,-74.15785,-73.91974,-73.92352,-73.91867,-73.92352,-73.92352,-73.92554,-73.93032,-73.93032,-73.91974,-73.91609,-73.92084,-73.91781,-73.90979,-73.91252,-73.91109,-73.91109,-73.90448,-73.90448,-73.90039,-73.90245,-73.91776,-73.90245,-73.90039,-73.90448,-73.90448,-73.90403,-73.90131,-73.91084,-73.90131,-73.89798,-73.90322,-73.90131,-73.91084,-73.89698,-73.91084,-73.91084,-73.89665,-73.88823,-73.88823,-73.88823,-73.88823,-73.88823,-73.88823,-73.89395,-73.89805,-73.89805,-73.89307,-73.89395,-73.88796,-73.89047,-73.88602,-73.89047,-73.88469,-73.87542,-73.83812,-73.83812,-73.86502,-73.90921,-73.91234,-73.91234,-73.91234,-73.91234,-73.90123,-73.91409,-73.85287,-73.85287,-73.85287,-73.86139,-73.86139,-73.86139,-73.86139,-73.86139,-73.86139,-73.89816,-73.88978,-73.89816,-73.89816,-73.89816,-73.89752,-73.8859,-73.89816,-73.86074,-73.86074,-73.86074,-73.86074,-73.86074,-73.87882,-73.87834,-73.87882,-73.87834,-73.87882,-73.87882,-73.85596,-73.85596,-73.85657,-73.85596,-73.85596,-73.85657,-73.88114,-73.85596,-73.8338,-73.8338,-73.92824,-73.93681,-73.93363,-73.94969,-73.92908,-73.93742,-73.93745,-73.93681,-73.93363,-73.94657,-73.93688,-73.93681,-73.9246,-73.91033,-73.93273,-73.92514,-73.92682,-73.98496,-73.98496,-73.99349,-73.99349,-73.98604,-73.98862,-73.98862,-73.99109,-73.98604,-73.98496,-73.9219,-73.9219,-73.94255,-73.9219,-73.94255,-73.92903,-73.94255,-73.98152,-73.98201,-73.95887,-73.97577,-73.96929,-73.95324,-73.94366,-73.94668,-73.94366,-73.94366,-73.8948,-73.8948,-73.89645,-73.8948,-73.8948,-73.88634,-73.86843,-73.86843,-73.87422,-73.87597,-73.86843,-73.87478,-73.86843,-74.03995,-73.95292,-73.94043,-73.94043,-73.95465,-73.95573,-73.94043,-73.95465,-73.95465,-73.9117,-73.9117,-73.93888,-73.93888,-73.93243,-73.98473,-73.99442,-73.98473,-73.98473,-74.00365,-73.98473,-73.98473,-73.97926,-73.97926,-73.97926,-73.97926,-73.95427,-73.98047,-73.97675,-73.97169,-74.02382,-73.92915,-73.92108,-73.93373,-73.9315,-73.92799,-73.95258,-73.95258,-73.98175,-73.97289,-73.96165,-73.96165,-73.95086,-73.96165,-73.96165,-73.96165,-73.95843,-73.95843,-73.95843,-73.95843,-73.95843,-73.94845,-73.95923,-74.00148,-74.0055,-73.91349,-73.9222,-73.93609,-73.96747,-73.96372,-73.89869,-73.9178,-73.89869,-73.89869,-73.9178,-73.9178,-73.9178,-73.91315,-73.91082,-73.91082,-73.91082,-73.96207,-73.82786,-73.82181,-73.81838,-73.79006,-73.78039,-73.75608,-73.79285,-73.80943,-73.81072,-73.82479,-73.82142,-73.85331,-73.87057,-73.88739,-73.87057,-73.87473,-73.84563,-73.85063,-73.90865,-73.73492,-73.73492,-73.75353,-73.75684,-73.75684,-73.75684,-73.75684,-73.84064,-73.83832,-73.84498,-73.83358,-73.77119,-73.72691,-73.73965,-73.8065,-73.79652,-73.79652,-73.80408,-73.79652,-73.80213,-73.79882,-73.79652,-73.78698,-73.79815,-73.78408,-73.78343,-73.76283,-73.76283,-73.76283,-73.82309,-73.82309,-73.82309,-73.82568],\"marker\":{\"color\":[91.0,78.9,65.1,95.9,59.7,70.8,80.8,35.6,69.9,73.7,87.8,86.9,70.2,53.2,78.6,79.6,78.8,60.0,94.0,75.0,66.8,54.9,85.2,94.3,48.3,89.9,98.8,79.8,71.8,69.7,30.6,80.6,90.0,80.4,96.0,46.1,62.8,67.5,57.3,56.2,60.6,74.0,70.1,84.4,78.4,52.0,86.0,58.8,49.5,82.8,88.5,44.4,97.2,60.5,60.0,89.1,59.4,52.6,63.8,88.2,54.0,76.7,56.8,97.9,89.6,100.0,87.6,36.9,84.7,92.6,74.0,71.0,55.3,87.0,40.5,89.5,72.2,53.8,44.3,65.1,33.0,41.9,44.1,95.3,56.2,58.6,89.3,63.8,63.0,97.4,38.0,79.2,64.2,44.6,99.7,63.7,78.9,66.3,55.8,83.5,0.8,30.4,63.8,55.5,61.3,57.8,57.9,38.4,29.8,78.9,76.9,58.2,32.6,80.0,87.8,44.9,31.3,59.1,40.7,73.9,93.3,78.2,81.0,38.4,44.8,50.5,87.8,45.5,46.2,23.5,49.1,59.2,83.9,65.7,33.3,51.1,77.7,57.3,64.8,55.3,56.2,66.7,44.3,65.9,59.0,25.7,71.6,27.1,41.1,76.5,75.0,43.0,71.1,49.2,52.3,28.9,32.5,85.9,48.3,59.6,66.7,92.9,68.6,69.4,93.0,43.3,63.4,41.0,50.5,59.4,65.6,77.4,38.1,46.5,97.0,50.7,39.9,75.6,91.8,31.8,19.2,57.9,77.0,72.7,79.8,72.5,65.6,88.3,46.8,77.5,52.0,38.2,39.2,41.3,51.2,1.2,44.2,45.2,31.3,44.9,87.1,41.5,53.4,70.9,48.7,95.0,78.6,84.8,47.1,94.1,71.7,58.8,71.1,92.7,100.0,56.9,51.6,89.5,98.5,65.9,92.7,65.1,61.8,18.5,82.4,87.6,55.3,45.3,55.1,57.3,72.6,60.8,62.2,95.4,64.2,53.5,83.6,54.0,51.7,55.1,85.5,56.3,97.5,18.9,41.1,56.3,40.9,47.7,38.5,26.4,39.8,66.7,46.8,28.6,52.8,37.2,53.8,81.2,57.4,68.7,85.7,44.9,54.5,74.5,62.5,34.8,87.8,60.1,65.4,56.6,69.4,48.1,35.6,56.2,67.8,84.3,75.0,63.2,70.2,65.8,58.8,79.6,59.6,74.7,96.2,80.6,95.5,98.1,81.6,50.0,62.7,45.9,42.9,46.8,31.6,46.3,62.7,68.4,72.2,58.5,89.0,55.0,81.7,61.9,91.5,57.3,63.2,45.5,62.0,69.0,75.2,84.1,61.6,64.4,50.7,94.0,54.9,31.4,44.9,50.0,60.2,59.1,72.7,69.1,50.8,85.0,50.0,71.3,41.9,61.3,46.1,89.4,67.7,89.2,76.7,75.6,80.7,88.2,67.3,62.1,97.1,76.7,68.9,90.0,31.9,39.1,72.8,76.4,38.9,60.2,54.9,72.4,70.1,69.5,83.7,63.5,78.9,38.4,85.1,37.9,58.5,72.4,40.0,92.5,78.6,72.3,90.4,74.8,51.8,80.0,62.6,92.9,97.9,56.6,26.3,30.1,67.6,44.6,38.5,76.6,46.5,99.2],\"coloraxis\":\"coloraxis\"},\"mode\":\"markers\",\"name\":\"\",\"showlegend\":false,\"subplot\":\"mapbox\",\"type\":\"scattermapbox\"}],                        {\"template\":{\"data\":{\"histogram2dcontour\":[{\"type\":\"histogram2dcontour\",\"colorbar\":{\"outlinewidth\":0,\"ticks\":\"\"},\"colorscale\":[[0.0,\"#0d0887\"],[0.1111111111111111,\"#46039f\"],[0.2222222222222222,\"#7201a8\"],[0.3333333333333333,\"#9c179e\"],[0.4444444444444444,\"#bd3786\"],[0.5555555555555556,\"#d8576b\"],[0.6666666666666666,\"#ed7953\"],[0.7777777777777778,\"#fb9f3a\"],[0.8888888888888888,\"#fdca26\"],[1.0,\"#f0f921\"]]}],\"choropleth\":[{\"type\":\"choropleth\",\"colorbar\":{\"outlinewidth\":0,\"ticks\":\"\"}}],\"histogram2d\":[{\"type\":\"histogram2d\",\"colorbar\":{\"outlinewidth\":0,\"ticks\":\"\"},\"colorscale\":[[0.0,\"#0d0887\"],[0.1111111111111111,\"#46039f\"],[0.2222222222222222,\"#7201a8\"],[0.3333333333333333,\"#9c179e\"],[0.4444444444444444,\"#bd3786\"],[0.5555555555555556,\"#d8576b\"],[0.6666666666666666,\"#ed7953\"],[0.7777777777777778,\"#fb9f3a\"],[0.8888888888888888,\"#fdca26\"],[1.0,\"#f0f921\"]]}],\"heatmap\":[{\"type\":\"heatmap\",\"colorbar\":{\"outlinewidth\":0,\"ticks\":\"\"},\"colorscale\":[[0.0,\"#0d0887\"],[0.1111111111111111,\"#46039f\"],[0.2222222222222222,\"#7201a8\"],[0.3333333333333333,\"#9c179e\"],[0.4444444444444444,\"#bd3786\"],[0.5555555555555556,\"#d8576b\"],[0.6666666666666666,\"#ed7953\"],[0.7777777777777778,\"#fb9f3a\"],[0.8888888888888888,\"#fdca26\"],[1.0,\"#f0f921\"]]}],\"heatmapgl\":[{\"type\":\"heatmapgl\",\"colorbar\":{\"outlinewidth\":0,\"ticks\":\"\"},\"colorscale\":[[0.0,\"#0d0887\"],[0.1111111111111111,\"#46039f\"],[0.2222222222222222,\"#7201a8\"],[0.3333333333333333,\"#9c179e\"],[0.4444444444444444,\"#bd3786\"],[0.5555555555555556,\"#d8576b\"],[0.6666666666666666,\"#ed7953\"],[0.7777777777777778,\"#fb9f3a\"],[0.8888888888888888,\"#fdca26\"],[1.0,\"#f0f921\"]]}],\"contourcarpet\":[{\"type\":\"contourcarpet\",\"colorbar\":{\"outlinewidth\":0,\"ticks\":\"\"}}],\"contour\":[{\"type\":\"contour\",\"colorbar\":{\"outlinewidth\":0,\"ticks\":\"\"},\"colorscale\":[[0.0,\"#0d0887\"],[0.1111111111111111,\"#46039f\"],[0.2222222222222222,\"#7201a8\"],[0.3333333333333333,\"#9c179e\"],[0.4444444444444444,\"#bd3786\"],[0.5555555555555556,\"#d8576b\"],[0.6666666666666666,\"#ed7953\"],[0.7777777777777778,\"#fb9f3a\"],[0.8888888888888888,\"#fdca26\"],[1.0,\"#f0f921\"]]}],\"surface\":[{\"type\":\"surface\",\"colorbar\":{\"outlinewidth\":0,\"ticks\":\"\"},\"colorscale\":[[0.0,\"#0d0887\"],[0.1111111111111111,\"#46039f\"],[0.2222222222222222,\"#7201a8\"],[0.3333333333333333,\"#9c179e\"],[0.4444444444444444,\"#bd3786\"],[0.5555555555555556,\"#d8576b\"],[0.6666666666666666,\"#ed7953\"],[0.7777777777777778,\"#fb9f3a\"],[0.8888888888888888,\"#fdca26\"],[1.0,\"#f0f921\"]]}],\"mesh3d\":[{\"type\":\"mesh3d\",\"colorbar\":{\"outlinewidth\":0,\"ticks\":\"\"}}],\"scatter\":[{\"fillpattern\":{\"fillmode\":\"overlay\",\"size\":10,\"solidity\":0.2},\"type\":\"scatter\"}],\"parcoords\":[{\"type\":\"parcoords\",\"line\":{\"colorbar\":{\"outlinewidth\":0,\"ticks\":\"\"}}}],\"scatterpolargl\":[{\"type\":\"scatterpolargl\",\"marker\":{\"colorbar\":{\"outlinewidth\":0,\"ticks\":\"\"}}}],\"bar\":[{\"error_x\":{\"color\":\"#2a3f5f\"},\"error_y\":{\"color\":\"#2a3f5f\"},\"marker\":{\"line\":{\"color\":\"#E5ECF6\",\"width\":0.5},\"pattern\":{\"fillmode\":\"overlay\",\"size\":10,\"solidity\":0.2}},\"type\":\"bar\"}],\"scattergeo\":[{\"type\":\"scattergeo\",\"marker\":{\"colorbar\":{\"outlinewidth\":0,\"ticks\":\"\"}}}],\"scatterpolar\":[{\"type\":\"scatterpolar\",\"marker\":{\"colorbar\":{\"outlinewidth\":0,\"ticks\":\"\"}}}],\"histogram\":[{\"marker\":{\"pattern\":{\"fillmode\":\"overlay\",\"size\":10,\"solidity\":0.2}},\"type\":\"histogram\"}],\"scattergl\":[{\"type\":\"scattergl\",\"marker\":{\"colorbar\":{\"outlinewidth\":0,\"ticks\":\"\"}}}],\"scatter3d\":[{\"type\":\"scatter3d\",\"line\":{\"colorbar\":{\"outlinewidth\":0,\"ticks\":\"\"}},\"marker\":{\"colorbar\":{\"outlinewidth\":0,\"ticks\":\"\"}}}],\"scattermapbox\":[{\"type\":\"scattermapbox\",\"marker\":{\"colorbar\":{\"outlinewidth\":0,\"ticks\":\"\"}}}],\"scatterternary\":[{\"type\":\"scatterternary\",\"marker\":{\"colorbar\":{\"outlinewidth\":0,\"ticks\":\"\"}}}],\"scattercarpet\":[{\"type\":\"scattercarpet\",\"marker\":{\"colorbar\":{\"outlinewidth\":0,\"ticks\":\"\"}}}],\"carpet\":[{\"aaxis\":{\"endlinecolor\":\"#2a3f5f\",\"gridcolor\":\"white\",\"linecolor\":\"white\",\"minorgridcolor\":\"white\",\"startlinecolor\":\"#2a3f5f\"},\"baxis\":{\"endlinecolor\":\"#2a3f5f\",\"gridcolor\":\"white\",\"linecolor\":\"white\",\"minorgridcolor\":\"white\",\"startlinecolor\":\"#2a3f5f\"},\"type\":\"carpet\"}],\"table\":[{\"cells\":{\"fill\":{\"color\":\"#EBF0F8\"},\"line\":{\"color\":\"white\"}},\"header\":{\"fill\":{\"color\":\"#C8D4E3\"},\"line\":{\"color\":\"white\"}},\"type\":\"table\"}],\"barpolar\":[{\"marker\":{\"line\":{\"color\":\"#E5ECF6\",\"width\":0.5},\"pattern\":{\"fillmode\":\"overlay\",\"size\":10,\"solidity\":0.2}},\"type\":\"barpolar\"}],\"pie\":[{\"automargin\":true,\"type\":\"pie\"}]},\"layout\":{\"autotypenumbers\":\"strict\",\"colorway\":[\"#636efa\",\"#EF553B\",\"#00cc96\",\"#ab63fa\",\"#FFA15A\",\"#19d3f3\",\"#FF6692\",\"#B6E880\",\"#FF97FF\",\"#FECB52\"],\"font\":{\"color\":\"#2a3f5f\"},\"hovermode\":\"closest\",\"hoverlabel\":{\"align\":\"left\"},\"paper_bgcolor\":\"white\",\"plot_bgcolor\":\"#E5ECF6\",\"polar\":{\"bgcolor\":\"#E5ECF6\",\"angularaxis\":{\"gridcolor\":\"white\",\"linecolor\":\"white\",\"ticks\":\"\"},\"radialaxis\":{\"gridcolor\":\"white\",\"linecolor\":\"white\",\"ticks\":\"\"}},\"ternary\":{\"bgcolor\":\"#E5ECF6\",\"aaxis\":{\"gridcolor\":\"white\",\"linecolor\":\"white\",\"ticks\":\"\"},\"baxis\":{\"gridcolor\":\"white\",\"linecolor\":\"white\",\"ticks\":\"\"},\"caxis\":{\"gridcolor\":\"white\",\"linecolor\":\"white\",\"ticks\":\"\"}},\"coloraxis\":{\"colorbar\":{\"outlinewidth\":0,\"ticks\":\"\"}},\"colorscale\":{\"sequential\":[[0.0,\"#0d0887\"],[0.1111111111111111,\"#46039f\"],[0.2222222222222222,\"#7201a8\"],[0.3333333333333333,\"#9c179e\"],[0.4444444444444444,\"#bd3786\"],[0.5555555555555556,\"#d8576b\"],[0.6666666666666666,\"#ed7953\"],[0.7777777777777778,\"#fb9f3a\"],[0.8888888888888888,\"#fdca26\"],[1.0,\"#f0f921\"]],\"sequentialminus\":[[0.0,\"#0d0887\"],[0.1111111111111111,\"#46039f\"],[0.2222222222222222,\"#7201a8\"],[0.3333333333333333,\"#9c179e\"],[0.4444444444444444,\"#bd3786\"],[0.5555555555555556,\"#d8576b\"],[0.6666666666666666,\"#ed7953\"],[0.7777777777777778,\"#fb9f3a\"],[0.8888888888888888,\"#fdca26\"],[1.0,\"#f0f921\"]],\"diverging\":[[0,\"#8e0152\"],[0.1,\"#c51b7d\"],[0.2,\"#de77ae\"],[0.3,\"#f1b6da\"],[0.4,\"#fde0ef\"],[0.5,\"#f7f7f7\"],[0.6,\"#e6f5d0\"],[0.7,\"#b8e186\"],[0.8,\"#7fbc41\"],[0.9,\"#4d9221\"],[1,\"#276419\"]]},\"xaxis\":{\"gridcolor\":\"white\",\"linecolor\":\"white\",\"ticks\":\"\",\"title\":{\"standoff\":15},\"zerolinecolor\":\"white\",\"automargin\":true,\"zerolinewidth\":2},\"yaxis\":{\"gridcolor\":\"white\",\"linecolor\":\"white\",\"ticks\":\"\",\"title\":{\"standoff\":15},\"zerolinecolor\":\"white\",\"automargin\":true,\"zerolinewidth\":2},\"scene\":{\"xaxis\":{\"backgroundcolor\":\"#E5ECF6\",\"gridcolor\":\"white\",\"linecolor\":\"white\",\"showbackground\":true,\"ticks\":\"\",\"zerolinecolor\":\"white\",\"gridwidth\":2},\"yaxis\":{\"backgroundcolor\":\"#E5ECF6\",\"gridcolor\":\"white\",\"linecolor\":\"white\",\"showbackground\":true,\"ticks\":\"\",\"zerolinecolor\":\"white\",\"gridwidth\":2},\"zaxis\":{\"backgroundcolor\":\"#E5ECF6\",\"gridcolor\":\"white\",\"linecolor\":\"white\",\"showbackground\":true,\"ticks\":\"\",\"zerolinecolor\":\"white\",\"gridwidth\":2}},\"shapedefaults\":{\"line\":{\"color\":\"#2a3f5f\"}},\"annotationdefaults\":{\"arrowcolor\":\"#2a3f5f\",\"arrowhead\":0,\"arrowwidth\":1},\"geo\":{\"bgcolor\":\"white\",\"landcolor\":\"#E5ECF6\",\"subunitcolor\":\"white\",\"showland\":true,\"showlakes\":true,\"lakecolor\":\"white\"},\"title\":{\"x\":0.05},\"mapbox\":{\"style\":\"light\"}}},\"mapbox\":{\"domain\":{\"x\":[0.0,1.0],\"y\":[0.0,1.0]},\"center\":{\"lat\":40.743298848167534,\"lon\":-73.92317172774868},\"zoom\":4,\"style\":\"carto-positron\"},\"coloraxis\":{\"colorbar\":{\"title\":{\"text\":\"Percent_Tested\"}},\"colorscale\":[[0.0,\"rgb(165,0,38)\"],[0.1,\"rgb(215,48,39)\"],[0.2,\"rgb(244,109,67)\"],[0.3,\"rgb(253,174,97)\"],[0.4,\"rgb(254,224,139)\"],[0.5,\"rgb(255,255,191)\"],[0.6,\"rgb(217,239,139)\"],[0.7,\"rgb(166,217,106)\"],[0.8,\"rgb(102,189,99)\"],[0.9,\"rgb(26,152,80)\"],[1.0,\"rgb(0,104,55)\"]]},\"legend\":{\"tracegroupgap\":0},\"title\":{\"text\":\"Schools Colored by Percent Tested\"},\"height\":1000,\"width\":1000},                        {\"responsive\": true}                    ).then(function(){\n",
       "                            \n",
       "var gd = document.getElementById('474571fd-9aa9-4e8e-823e-d813a6916862');\n",
       "var x = new MutationObserver(function (mutations, observer) {{\n",
       "        var display = window.getComputedStyle(gd).display;\n",
       "        if (!display || display === 'none') {{\n",
       "            console.log([gd, 'removed!']);\n",
       "            Plotly.purge(gd);\n",
       "            observer.disconnect();\n",
       "        }}\n",
       "}});\n",
       "\n",
       "// Listen for the removal of the full notebook cells\n",
       "var notebookContainer = gd.closest('#notebook-container');\n",
       "if (notebookContainer) {{\n",
       "    x.observe(notebookContainer, {childList: true});\n",
       "}}\n",
       "\n",
       "// Listen for the clearing of the current output cell\n",
       "var outputEl = gd.closest('.output');\n",
       "if (outputEl) {{\n",
       "    x.observe(outputEl, {childList: true});\n",
       "}}\n",
       "\n",
       "                        })                };                });            </script>        </div>"
      ]
     },
     "metadata": {},
     "output_type": "display_data"
    }
   ],
   "source": [
    "fig.update_layout(\n",
    "    height=1000,\n",
    "    width=1000\n",
    ")"
   ]
  },
  {
   "cell_type": "code",
   "execution_count": 153,
   "id": "3592472b-eede-46d2-88c2-3978864c5179",
   "metadata": {},
   "outputs": [],
   "source": [
    "fig.write_html(\"schools_percent_tested_map.html\")"
   ]
  },
  {
   "cell_type": "code",
   "execution_count": null,
   "id": "52039bec-d67a-41e8-9775-8dab4057213c",
   "metadata": {},
   "outputs": [],
   "source": []
  }
 ],
 "metadata": {
  "kernelspec": {
   "display_name": "Python 3 (ipykernel)",
   "language": "python",
   "name": "python3"
  },
  "language_info": {
   "codemirror_mode": {
    "name": "ipython",
    "version": 3
   },
   "file_extension": ".py",
   "mimetype": "text/x-python",
   "name": "python",
   "nbconvert_exporter": "python",
   "pygments_lexer": "ipython3",
   "version": "3.12.4"
  }
 },
 "nbformat": 4,
 "nbformat_minor": 5
}
